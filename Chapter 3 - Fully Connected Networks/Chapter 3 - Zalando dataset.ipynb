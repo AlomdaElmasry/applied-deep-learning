{
 "cells": [
  {
   "cell_type": "markdown",
   "metadata": {},
   "source": [
    "# Applied Deep Learning - a use case based approach to understand deep neural networks\n",
    "\n",
    "### Umberto Michelucci\n",
    "\n",
    "Buy the book: https://www.apress.com/us/book/9781484237892"
   ]
  },
  {
   "cell_type": "markdown",
   "metadata": {},
   "source": [
    "(C) Umberto Michelucci 2018-2019 - umberto.michelucci@gmail.com \n",
    "\n",
    "github repository: https://github.com/Apress/applied-deep-learning"
   ]
  },
  {
   "cell_type": "markdown",
   "metadata": {},
   "source": [
    "# Zalando dataset\n",
    "\n",
    "https://www.kaggle.com/zalando-research/fashionmnist/data"
   ]
  },
  {
   "cell_type": "markdown",
   "metadata": {},
   "source": [
    "**Context**\n",
    "Fashion-MNIST is a dataset of Zalando's article images—consisting of a training set of 60,000 examples and a test set of 10,000 examples. Each example is a 28x28 grayscale image, associated with a label from 10 classes. Zalando intends Fashion-MNIST to serve as a direct drop-in replacement for the original MNIST dataset for benchmarking machine learning algorithms. It shares the same image size and structure of training and testing splits.\n",
    "\n",
    "The original MNIST dataset contains a lot of handwritten digits. Members of the AI/ML/Data Science community love this dataset and use it as a benchmark to validate their algorithms. In fact, MNIST is often the first dataset researchers try. \"If it doesn't work on MNIST, it won't work at all\", they said. \"Well, if it does work on MNIST, it may still fail on others.\"\n",
    "Zalando seeks to replace the original MNIST dataset\n",
    "\n",
    "**Content**\n",
    "Each image is 28 pixels in height and 28 pixels in width, for a total of 784 pixels in total. Each pixel has a single pixel-value associated with it, indicating the lightness or darkness of that pixel, with higher numbers meaning darker. This pixel-value is an integer between 0 and 255. The training and test data sets have 785 columns. The first column consists of the class labels (see above), and represents the article of clothing. The rest of the columns contain the pixel-values of the associated image.\n",
    "\n",
    "To locate a pixel on the image, suppose that we have decomposed x as x = i * 28 + j, where i and j are integers between 0 and 27. The pixel is located on row i and column j of a 28 x 28 matrix. \n",
    "For example, pixel31 indicates the pixel that is in the fourth column from the left, and the second row from the top, as in the ascii-diagram below. \n",
    "\n",
    "**Labels**\n",
    "Each training and test example is assigned to one of the following labels:\n",
    "- 0 T-shirt/top\n",
    "- 1 Trouser\n",
    "- 2 Pullover\n",
    "- 3 Dress\n",
    "- 4 Coat\n",
    "- 5 Sandal\n",
    "- 6 Shirt\n",
    "- 7 Sneaker\n",
    "- 8 Bag\n",
    "- 9 Ankle boot \n",
    "\n",
    "**TL;DR**\n",
    "Each row is a separate image \n",
    "Column 1 is the class label. \n",
    "Remaining columns are pixel numbers (784 total). \n",
    "Each value is the darkness of the pixel (1 to 255)\n",
    "\n",
    "**Acknowledgements**\n",
    "Original dataset was downloaded from https://github.com/zalandoresearch/fashion-mnist\n",
    "Dataset was converted to CSV with this script: https://pjreddie.com/projects/mnist-in-csv/\n",
    "\n",
    "**License**\n",
    "The MIT License (MIT) Copyright © [2017] Zalando SE, https://tech.zalando.com\n",
    "Permission is hereby granted, free of charge, to any person obtaining a copy of this software and associated documentation files (the “Software”), to deal in the Software without restriction, including without limitation the rights to use, copy, modify, merge, publish, distribute, sublicense, and/or sell copies of the Software, and to permit persons to whom the Software is furnished to do so, subject to the following conditions:\n",
    "The above copyright notice and this permission notice shall be included in all copies or substantial portions of the Software.\n",
    "THE SOFTWARE IS PROVIDED “AS IS”, WITHOUT WARRANTY OF ANY KIND, EXPRESS OR IMPLIED, INCLUDING BUT NOT LIMITED TO THE WARRANTIES OF MERCHANTABILITY, FITNESS FOR A PARTICULAR PURPOSE AND NONINFRINGEMENT. IN NO EVENT SHALL THE AUTHORS OR COPYRIGHT HOLDERS BE LIABLE FOR ANY CLAIM, DAMAGES OR OTHER LIABILITY, WHETHER IN AN ACTION OF CONTRACT, TORT OR OTHERWISE, ARISING FROM, OUT OF OR IN CONNECTION WITH THE SOFTWARE OR THE USE OR OTHER DEALINGS IN THE SOFTWARE."
   ]
  },
  {
   "cell_type": "code",
   "execution_count": 1,
   "metadata": {},
   "outputs": [],
   "source": [
    "import pandas as pd\n",
    "import numpy as np\n",
    "import tensorflow as tf\n",
    "\n",
    "%matplotlib inline\n",
    "\n",
    "import matplotlib\n",
    "import matplotlib.pyplot as plt\n",
    "\n",
    "from random import *"
   ]
  },
  {
   "cell_type": "code",
   "execution_count": 2,
   "metadata": {},
   "outputs": [],
   "source": [
    "def get_label_name(idx):\n",
    "    if (idx == 0):\n",
    "        return '(0) T-shirt/top'\n",
    "    elif (idx == 1):\n",
    "        return '(1) Trouser'\n",
    "    elif (idx == 2):\n",
    "        return '(2) Pullover'\n",
    "    elif (idx == 3):\n",
    "        return '(3) Dress'\n",
    "    elif (idx == 4):\n",
    "        return '(4) Coat'\n",
    "    elif (idx == 5):\n",
    "        return '(5) Sandal'\n",
    "    elif (idx == 6):\n",
    "        return '(6) Shirt'\n",
    "    elif (idx == 7):\n",
    "        return '(7) Sneaker'\n",
    "    elif (idx == 8):\n",
    "        return '(8) Bag'\n",
    "    elif (idx == 9):\n",
    "        return '(9) Ankle boot'"
   ]
  },
  {
   "cell_type": "code",
   "execution_count": 3,
   "metadata": {},
   "outputs": [],
   "source": [
    "def get_random_element_with_label (data, lbls, lbl):\n",
    "    subset = data[lbls == lbl]\n",
    "    return np.random.choice(subset)"
   ]
  },
  {
   "cell_type": "code",
   "execution_count": 4,
   "metadata": {
    "scrolled": false
   },
   "outputs": [],
   "source": [
    "data_train = pd.read_csv('fashion-mnist_train.csv', header = 0)\n",
    "data_test = pd.read_csv('fashion-mnist_test.csv', header = 0)"
   ]
  },
  {
   "cell_type": "code",
   "execution_count": 11,
   "metadata": {},
   "outputs": [
    {
     "name": "stdout",
     "output_type": "stream",
     "text": [
      "1min 23s ± 4.1 s per loop (mean ± std. dev. of 7 runs, 1 loop each)\n"
     ]
    }
   ],
   "source": [
    "%%timeit\n",
    "data_train_np = np.loadtxt('fashion-mnist_train.csv',delimiter=',',skiprows=1)  "
   ]
  },
  {
   "cell_type": "code",
   "execution_count": 5,
   "metadata": {},
   "outputs": [
    {
     "data": {
      "text/plain": [
       "60000"
      ]
     },
     "execution_count": 5,
     "metadata": {},
     "output_type": "execute_result"
    }
   ],
   "source": [
    "len(data_train)"
   ]
  },
  {
   "cell_type": "code",
   "execution_count": 6,
   "metadata": {},
   "outputs": [
    {
     "data": {
      "text/plain": [
       "(60000, 785)"
      ]
     },
     "execution_count": 6,
     "metadata": {},
     "output_type": "execute_result"
    }
   ],
   "source": [
    "data_train.shape"
   ]
  },
  {
   "cell_type": "markdown",
   "metadata": {},
   "source": [
    "Let's test our function to get a random element from a subset"
   ]
  },
  {
   "cell_type": "markdown",
   "metadata": {},
   "source": [
    "# Train dataset preparation"
   ]
  },
  {
   "cell_type": "code",
   "execution_count": 7,
   "metadata": {},
   "outputs": [],
   "source": [
    "labels = data_train['label'].values.reshape(1, 60000)\n",
    "\n",
    "labels_ = np.zeros((60000, 10))\n",
    "labels_[np.arange(60000), labels] = 1\n",
    "labels_ = labels_.transpose()\n",
    "\n",
    "\n",
    "train = data_train.drop('label', axis=1).transpose()"
   ]
  },
  {
   "cell_type": "code",
   "execution_count": 8,
   "metadata": {},
   "outputs": [
    {
     "name": "stdout",
     "output_type": "stream",
     "text": [
      "(10, 60000)\n",
      "(784, 60000)\n"
     ]
    }
   ],
   "source": [
    "print(labels_.shape)\n",
    "print(train.shape)"
   ]
  },
  {
   "cell_type": "markdown",
   "metadata": {},
   "source": [
    "# Test dataset preparation"
   ]
  },
  {
   "cell_type": "code",
   "execution_count": 9,
   "metadata": {},
   "outputs": [],
   "source": [
    "labels_test = data_test['label'].values.reshape(1, 10000)\n",
    "\n",
    "labels_test_ = np.zeros((10000, 10))\n",
    "labels_test_[np.arange(10000), labels_test] = 1\n",
    "labels_test_ = labels_test_.transpose()\n",
    "\n",
    "\n",
    "test = data_test.drop('label', axis=1).transpose()"
   ]
  },
  {
   "cell_type": "code",
   "execution_count": 10,
   "metadata": {},
   "outputs": [
    {
     "data": {
      "text/plain": [
       "(10, 10000)"
      ]
     },
     "execution_count": 10,
     "metadata": {},
     "output_type": "execute_result"
    }
   ],
   "source": [
    "labels_test_.shape"
   ]
  },
  {
   "cell_type": "markdown",
   "metadata": {},
   "source": [
    "### Normalization of data"
   ]
  },
  {
   "cell_type": "markdown",
   "metadata": {},
   "source": [
    "Let's normalize the training data dividing by 255.0 to get the values between 0 and 1."
   ]
  },
  {
   "cell_type": "code",
   "execution_count": 11,
   "metadata": {},
   "outputs": [],
   "source": [
    "train = np.array(train / 255.0)\n",
    "test = np.array(test / 255.0)\n",
    "labels_ = np.array(labels_)\n",
    "labels_test_ = np.array(labels_test_)"
   ]
  },
  {
   "cell_type": "markdown",
   "metadata": {},
   "source": [
    "### One example of the images"
   ]
  },
  {
   "cell_type": "code",
   "execution_count": 263,
   "metadata": {},
   "outputs": [
    {
     "data": {
      "image/png": "[encoded data removed]",
      "text/plain": [
       "<matplotlib.figure.Figure at 0x235058425c0>"
      ]
     },
     "metadata": {},
     "output_type": "display_data"
    }
   ],
   "source": [
    "idx = 5\n",
    "plt.imshow(train[:,idx].reshape(28,28), cmap = matplotlib.cm.binary, interpolation = \"nearest\")\n",
    "plt.axis(\"on\")\n",
    "plt.title(get_label_name(labels[:,idx]))\n",
    "plt.show()"
   ]
  },
  {
   "cell_type": "markdown",
   "metadata": {},
   "source": [
    "# Let's check some random sample of the data"
   ]
  },
  {
   "cell_type": "markdown",
   "metadata": {},
   "source": [
    "THe following function will return one numpy array (one column) with an example of a choosen label."
   ]
  },
  {
   "cell_type": "code",
   "execution_count": 13,
   "metadata": {},
   "outputs": [],
   "source": [
    "def get_random_element_with_label (data, lbls, lbl):\n",
    "    tmp = lbls == lbl\n",
    "    subset = data[:,tmp.flatten()]\n",
    "    return subset[:,randint(1,subset.shape[1])]"
   ]
  },
  {
   "cell_type": "markdown",
   "metadata": {},
   "source": [
    "## Let's create an array with a column for each label"
   ]
  },
  {
   "cell_type": "markdown",
   "metadata": {},
   "source": [
    "The following code create a numpy array where in column 0 you will find an example of label 0, in column 1 of label 1 and so on."
   ]
  },
  {
   "cell_type": "code",
   "execution_count": 14,
   "metadata": {},
   "outputs": [],
   "source": [
    "labels_overview = np.empty([784,10])\n",
    "for i in range (0,10):\n",
    "    col = get_random_element_with_label(train, labels, i)\n",
    "    labels_overview[:,i] = col"
   ]
  },
  {
   "cell_type": "markdown",
   "metadata": {},
   "source": [
    "Now let's plot one example of each type (label)"
   ]
  },
  {
   "cell_type": "code",
   "execution_count": 15,
   "metadata": {},
   "outputs": [
    {
     "data": {
      "image/png": "[encoded data removed]",
      "text/plain": [
       "<matplotlib.figure.Figure at 0x1bfef86f5c0>"
      ]
     },
     "metadata": {},
     "output_type": "display_data"
    }
   ],
   "source": [
    "f = plt.figure(figsize=(15,15));\n",
    "count = 1\n",
    "for i in range(0,10):\n",
    "    plt.subplot(5,2,count)\n",
    "    count = count + 1\n",
    "    plt.subplots_adjust(hspace=0.5)\n",
    "    plt.title(get_label_name(i))\n",
    "    some_digit_image = labels_overview[:,i].reshape(28,28)\n",
    "    plt.imshow(some_digit_image, cmap = matplotlib.cm.binary, interpolation = \"nearest\")\n",
    "    plt.axis(\"off\")\n",
    "    pass"
   ]
  },
  {
   "cell_type": "markdown",
   "metadata": {},
   "source": [
    "# 1 Layers + Softmax + Convergence vs. number of neurons"
   ]
  },
  {
   "cell_type": "code",
   "execution_count": 13,
   "metadata": {},
   "outputs": [],
   "source": [
    "n_dim = 784\n",
    "tf.reset_default_graph()\n",
    "\n",
    "# Number of neurons in the layers\n",
    "n1 = 15 # Number of neurons in layer 1\n",
    "n2 = 10 # Number of neurons in output layer \n",
    "\n",
    "cost_history = np.empty(shape=[1], dtype = float)\n",
    "learning_rate = tf.placeholder(tf.float32, shape=())\n",
    "\n",
    "X = tf.placeholder(tf.float32, [n_dim, None])\n",
    "Y = tf.placeholder(tf.float32, [10, None])\n",
    "W1 = tf.Variable(tf.truncated_normal([n1, n_dim], stddev=.1)) \n",
    "b1 = tf.Variable(tf.constant(0.1, shape = [n1,1]) )\n",
    "W2 = tf.Variable(tf.truncated_normal([n2, n1], stddev=.1)) \n",
    "b2 = tf.Variable(tf.constant(0.1, shape = [n2,1])) \n",
    "                 \n",
    "# Let's build our network...\n",
    "Z1 = tf.nn.relu(tf.matmul(W1, X) + b1) # n1 x n_dim * n_dim x n_obs = n1 x n_obs\n",
    "Z2 = tf.matmul(W2, Z1) + b2 # n2 x n1 * n1 * n_obs = n2 x n_obs\n",
    "y_ = tf.nn.softmax(Z2,0) # n2 x n_obs (10 x None)\n",
    "\n",
    "cost = - tf.reduce_mean(Y * tf.log(y_)+(1-Y) * tf.log(1-y_))\n",
    "optimizer = tf.train.GradientDescentOptimizer(learning_rate).minimize(cost)\n",
    "\n",
    "init = tf.global_variables_initializer()"
   ]
  },
  {
   "cell_type": "code",
   "execution_count": null,
   "metadata": {},
   "outputs": [],
   "source": [
    "sess = tf.Session()\n",
    "sess.run(tf.global_variables_initializer())\n",
    "    \n",
    "cost_history = []\n",
    "for epoch in range(training_epochs+1):\n",
    "    for i in range(0, features.shape[1], 1):\n",
    "        X_train_mini = features[:,i:i + 1]\n",
    "        y_train_mini = classes[:,i:i + 1]\n",
    "\n",
    "        sess.run(optimizer, feed_dict = {X: X_train_mini, Y: y_train_mini, learning_rate: learning_r})\n",
    "        cost_ = sess.run(cost, feed_dict={ X:features, Y: classes, learning_rate: learning_r})\n",
    "    cost_history = np.append(cost_history, cost_)\n",
    "\n",
    "    if (epoch % logging_step == 0):\n",
    "        print(\"Reached epoch\",epoch,\"cost J =\", cost_)"
   ]
  },
  {
   "cell_type": "code",
   "execution_count": 84,
   "metadata": {
    "scrolled": true
   },
   "outputs": [
    {
     "name": "stdout",
     "output_type": "stream",
     "text": [
      "Reached epoch 0 cost J = 0.331401\n",
      "Reached epoch 10 cost J = 0.330879\n",
      "Reached epoch 20 cost J = 0.33039\n",
      "Reached epoch 30 cost J = 0.329932\n",
      "Reached epoch 40 cost J = 0.3295\n",
      "Reached epoch 50 cost J = 0.329093\n",
      "Reached epoch 60 cost J = 0.328712\n",
      "Reached epoch 70 cost J = 0.328352\n",
      "Reached epoch 80 cost J = 0.328009\n",
      "Reached epoch 90 cost J = 0.327688\n",
      "Reached epoch 100 cost J = 0.327383\n"
     ]
    }
   ],
   "source": [
    "sess = tf.Session()\n",
    "sess.run(tf.global_variables_initializer())\n",
    "\n",
    "training_epochs = 100\n",
    "    \n",
    "cost_history = []\n",
    "for epoch in range(training_epochs+1):\n",
    "\n",
    "    sess.run(optimizer, feed_dict = {X: train, Y: labels_, learning_rate: 0.01})\n",
    "    cost_ = sess.run(cost, feed_dict={ X:train, Y: labels_, learning_rate: 0.01})\n",
    "    cost_history = np.append(cost_history, cost_)\n",
    "    \n",
    "    if (epoch % 10 == 0):\n",
    "        print(\"Reached epoch\",epoch,\"cost J =\", cost_)"
   ]
  },
  {
   "cell_type": "code",
   "execution_count": 85,
   "metadata": {},
   "outputs": [
    {
     "name": "stdout",
     "output_type": "stream",
     "text": [
      "Accuracy: 0.160433\n"
     ]
    }
   ],
   "source": [
    "correct_predictions = tf.equal(tf.argmax(y_,0), tf.argmax(Y,0))\n",
    "accuracy = tf.reduce_mean(tf.cast(correct_predictions, \"float\"))\n",
    "print (\"Accuracy:\", accuracy.eval({X: train, Y: labels_, learning_rate: 0.001}, session = sess))"
   ]
  },
  {
   "cell_type": "code",
   "execution_count": 14,
   "metadata": {},
   "outputs": [],
   "source": [
    "def model(minibatch_size, training_epochs, features, classes, logging_step = 100, learning_r = 0.001):\n",
    "    sess = tf.Session()\n",
    "    sess.run(tf.global_variables_initializer())\n",
    "\n",
    "    cost_history = []\n",
    "    for epoch in range(training_epochs+1):\n",
    "        for i in range(0, features.shape[1], minibatch_size):\n",
    "            X_train_mini = features[:,i:i + minibatch_size]\n",
    "            y_train_mini = classes[:,i:i + minibatch_size]\n",
    "\n",
    "            #if (i % 5000 == 0):\n",
    "            #    print('i = ',i)\n",
    "            \n",
    "            sess.run(optimizer, feed_dict = {X: X_train_mini, Y: y_train_mini, learning_rate: learning_r})\n",
    "        cost_ = sess.run(cost, feed_dict={ X:features, Y: classes, learning_rate: learning_r})\n",
    "        cost_history = np.append(cost_history, cost_)\n",
    "\n",
    "        if (epoch % logging_step == 0):\n",
    "                print(\"Reached epoch\",epoch,\"cost J =\", cost_)\n",
    "                \n",
    "    return sess, cost_history"
   ]
  },
  {
   "cell_type": "code",
   "execution_count": 147,
   "metadata": {},
   "outputs": [
    {
     "name": "stdout",
     "output_type": "stream",
     "text": [
      "Reached epoch 0 cost J = 0.324494\n",
      "Reached epoch 10 cost J = 0.274697\n",
      "Reached epoch 20 cost J = 0.256744\n",
      "Reached epoch 30 cost J = 0.247012\n",
      "Reached epoch 40 cost J = 0.240899\n",
      "Reached epoch 50 cost J = 0.236662\n",
      "Reached epoch 60 cost J = 0.233693\n",
      "Reached epoch 70 cost J = 0.231264\n",
      "Reached epoch 80 cost J = 0.229229\n",
      "Reached epoch 90 cost J = 0.227472\n",
      "Reached epoch 100 cost J = 0.225911\n"
     ]
    }
   ],
   "source": [
    "sess, cost_history1 = model (50, 100, train, labels_, 10, 0.01)"
   ]
  },
  {
   "cell_type": "markdown",
   "metadata": {},
   "source": [
    "## Random choice of 10000 elements "
   ]
  },
  {
   "cell_type": "code",
   "execution_count": 67,
   "metadata": {},
   "outputs": [
    {
     "name": "stdout",
     "output_type": "stream",
     "text": [
      "Number of elements in class  0 = 980\n",
      "Number of elements in class  1 = 1010\n",
      "Number of elements in class  2 = 999\n",
      "Number of elements in class  3 = 995\n",
      "Number of elements in class  4 = 995\n",
      "Number of elements in class  5 = 971\n",
      "Number of elements in class  6 = 1019\n",
      "Number of elements in class  7 = 1011\n",
      "Number of elements in class  8 = 998\n",
      "Number of elements in class  9 = 1022\n"
     ]
    }
   ],
   "source": [
    "rnd_list = np.random.choice(train.shape[1], 10000)\n",
    "train_red = train[:, rnd_list]\n",
    "labels_red = labels_[:, rnd_list]\n",
    "labels_int = labels[0, rnd_list]\n",
    "\n",
    "for i in range (10):\n",
    "    print ('Number of elements in class ',i,'=', np.sum(labels_int == i))"
   ]
  },
  {
   "cell_type": "code",
   "execution_count": 80,
   "metadata": {
    "scrolled": false
   },
   "outputs": [
    {
     "name": "stdout",
     "output_type": "stream",
     "text": [
      "Reached epoch 0 cost J = 0.31713\n",
      "Reached epoch 10 cost J = 0.166352\n",
      "Reached epoch 20 cost J = 0.135573\n",
      "Reached epoch 30 cost J = 0.121482\n",
      "Reached epoch 40 cost J = 0.113303\n",
      "Reached epoch 50 cost J = 0.108148\n",
      "Reached epoch 60 cost J = 0.104227\n",
      "Reached epoch 70 cost J = 0.100981\n",
      "Reached epoch 80 cost J = 0.0983656\n",
      "Reached epoch 90 cost J = 0.0962468\n",
      "Reached epoch 100 cost J = 0.0945182\n",
      "Wall time: 35min 26s\n"
     ]
    }
   ],
   "source": [
    "%%time\n",
    "sess1, cost_history1 = model(minibatch_size = 1, \n",
    "                              training_epochs = 100, \n",
    "                              features = train, \n",
    "                              classes = labels_, \n",
    "                              logging_step = 10,\n",
    "                              learning_r = 0.0001)"
   ]
  },
  {
   "cell_type": "markdown",
   "metadata": {},
   "source": [
    "### Let's calculate train and test accuracy for our model"
   ]
  },
  {
   "cell_type": "code",
   "execution_count": 86,
   "metadata": {},
   "outputs": [
    {
     "name": "stdout",
     "output_type": "stream",
     "text": [
      "Accuracy: 0.80325\n"
     ]
    }
   ],
   "source": [
    "correct_predictions = tf.equal(tf.argmax(y_,0), tf.argmax(Y,0))\n",
    "accuracy = tf.reduce_mean(tf.cast(correct_predictions, \"float\"))\n",
    "print (\"Accuracy:\", accuracy.eval({X: train, Y: labels_, learning_rate: 0.001}, session = sess1))"
   ]
  },
  {
   "cell_type": "code",
   "execution_count": 73,
   "metadata": {},
   "outputs": [
    {
     "name": "stdout",
     "output_type": "stream",
     "text": [
      "Reached epoch 0 cost J = 0.324015\n",
      "Reached epoch 50 cost J = 0.323806\n",
      "Reached epoch 100 cost J = 0.323599\n",
      "Reached epoch 150 cost J = 0.323392\n",
      "Reached epoch 200 cost J = 0.323184\n",
      "Reached epoch 250 cost J = 0.322972\n",
      "Reached epoch 300 cost J = 0.322754\n",
      "Reached epoch 350 cost J = 0.322528\n",
      "Reached epoch 400 cost J = 0.322297\n",
      "Reached epoch 450 cost J = 0.322051\n",
      "Reached epoch 500 cost J = 0.321789\n",
      "Reached epoch 550 cost J = 0.321509\n",
      "Reached epoch 600 cost J = 0.32121\n",
      "Reached epoch 650 cost J = 0.320893\n",
      "Reached epoch 700 cost J = 0.320552\n",
      "Reached epoch 750 cost J = 0.320184\n",
      "Reached epoch 800 cost J = 0.319789\n",
      "Reached epoch 850 cost J = 0.319362\n",
      "Reached epoch 900 cost J = 0.318899\n",
      "Reached epoch 950 cost J = 0.318394\n",
      "Reached epoch 1000 cost J = 0.31785\n",
      "Wall time: 19min 29s\n"
     ]
    }
   ],
   "source": [
    "%%time\n",
    "sessb, cost_history500_2 = model(minibatch_size = 60000, \n",
    "                              training_epochs = 1000, \n",
    "                              features = train, \n",
    "                              classes = labels_, \n",
    "                              logging_step = 50,\n",
    "                              learning_r = 0.01)"
   ]
  },
  {
   "cell_type": "code",
   "execution_count": 76,
   "metadata": {},
   "outputs": [
    {
     "data": {
      "text/plain": [
       "(0, 1000)"
      ]
     },
     "execution_count": 76,
     "metadata": {},
     "output_type": "execute_result"
    },
    {
     "data": {
      "text/plain": [
       "<matplotlib.figure.Figure at 0x22c11601b70>"
      ]
     },
     "metadata": {},
     "output_type": "display_data"
    },
    {
     "data": {
      "image/png": "[encoded data removed]",
      "text/plain": [
       "<matplotlib.figure.Figure at 0x22c11601b00>"
      ]
     },
     "metadata": {},
     "output_type": "display_data"
    }
   ],
   "source": [
    "plt.rc('font', family='arial')\n",
    "plt.rc('xtick', labelsize='x-small')\n",
    "plt.rc('ytick', labelsize='x-small')\n",
    "    \n",
    "plt.tight_layout()\n",
    "\n",
    "fig = plt.figure(figsize=(3.9, 3.1))\n",
    "ax = fig.add_subplot(1, 1, 1)\n",
    "#ax.plot(cost_history1, ls='solid', color = 'black')\n",
    "ax.plot(cost_history50, ls='-', color = 'black')\n",
    "ax.plot(cost_history500_2, ls='--', color = 'black')\n",
    "ax.set_xlabel('epochs')\n",
    "ax.set_ylabel('Cost function $J$')\n",
    "\n",
    "plt.xlim((0,1000))"
   ]
  },
  {
   "cell_type": "code",
   "execution_count": 139,
   "metadata": {},
   "outputs": [
    {
     "name": "stdout",
     "output_type": "stream",
     "text": [
      "Accuracy: 0.823883\n"
     ]
    }
   ],
   "source": [
    "correct_predictions = tf.equal(tf.argmax(y_,0), tf.argmax(Y,0))\n",
    "accuracy = tf.reduce_mean(tf.cast(correct_predictions, \"float\"))\n",
    "print (\"Accuracy:\", accuracy.eval({X: train, Y: labels_, learning_rate: 0.001}, session = sessb))"
   ]
  },
  {
   "cell_type": "code",
   "execution_count": 144,
   "metadata": {},
   "outputs": [
    {
     "name": "stdout",
     "output_type": "stream",
     "text": [
      "Accuracy: 0.7336\n"
     ]
    }
   ],
   "source": [
    "correct_predictions = tf.equal(tf.argmax(y_,0), tf.argmax(Y,0))\n",
    "accuracy = tf.reduce_mean(tf.cast(correct_predictions, \"float\"))\n",
    "print (\"Accuracy:\", accuracy.eval({X: test, Y: labels_test_, learning_rate: 0.001}, session = sessb))"
   ]
  },
  {
   "cell_type": "markdown",
   "metadata": {},
   "source": [
    "### `corr_pred` array containing information on which prediction is right and which is wrong"
   ]
  },
  {
   "cell_type": "markdown",
   "metadata": {},
   "source": [
    "The `corr_pred` array contains `True` when the prediction is right and `False` when it is not."
   ]
  },
  {
   "cell_type": "code",
   "execution_count": null,
   "metadata": {},
   "outputs": [],
   "source": [
    "%%time\n",
    "sessb, cost_history500 = model(minibatch_size = 50, \n",
    "                              training_epochs = 1000, \n",
    "                              features = train, \n",
    "                              classes = labels_, \n",
    "                              logging_step = 100,\n",
    "                              learning_r = 0.001)"
   ]
  },
  {
   "cell_type": "code",
   "execution_count": 128,
   "metadata": {},
   "outputs": [],
   "source": [
    "corr_pred = sessb.run(correct_predictions, feed_dict = {X: train, Y: labels_, learning_rate: 0.1})"
   ]
  },
  {
   "cell_type": "code",
   "execution_count": 129,
   "metadata": {},
   "outputs": [
    {
     "data": {
      "text/plain": [
       "array([False,  True,  True,  True,  True, False,  True,  True,  True,\n",
       "        True,  True,  True,  True, False,  True, False,  True,  True,\n",
       "        True,  True,  True,  True,  True,  True,  True,  True,  True,\n",
       "       False,  True,  True,  True,  True,  True, False, False,  True,\n",
       "       False,  True,  True,  True], dtype=bool)"
      ]
     },
     "execution_count": 129,
     "metadata": {},
     "output_type": "execute_result"
    }
   ],
   "source": [
    "corr_pred[0:40] "
   ]
  },
  {
   "cell_type": "markdown",
   "metadata": {},
   "source": [
    "### The `pred` array contains the actual predictions."
   ]
  },
  {
   "cell_type": "code",
   "execution_count": 131,
   "metadata": {},
   "outputs": [],
   "source": [
    "pred = sessb.run(tf.argmax(y_,0), feed_dict = {X: train, Y: labels_, learning_rate: 0.1})"
   ]
  },
  {
   "cell_type": "markdown",
   "metadata": {},
   "source": [
    "# Let's check some wrong predictions"
   ]
  },
  {
   "cell_type": "code",
   "execution_count": 132,
   "metadata": {},
   "outputs": [
    {
     "data": {
      "image/png": "[encoded data removed]",
      "text/plain": [
       "<matplotlib.figure.Figure at 0x22c11e90630>"
      ]
     },
     "metadata": {},
     "output_type": "display_data"
    }
   ],
   "source": [
    "f = plt.figure(figsize=(8,8));\n",
    "plt.imshow(train[:,5].reshape(28,28), cmap = matplotlib.cm.binary, interpolation = \"nearest\")\n",
    "plt.title('True : '+get_label_name(labels[:,5])+' - Pred.: '+str(get_label_name(pred[5])))\n",
    "plt.axis(\"on\")\n",
    "plt.show()"
   ]
  },
  {
   "cell_type": "markdown",
   "metadata": {},
   "source": [
    "### Let's check 10 examples of wrongly classified images"
   ]
  },
  {
   "cell_type": "markdown",
   "metadata": {},
   "source": [
    "Let's first get 10 random examples of wrongly classified images"
   ]
  },
  {
   "cell_type": "code",
   "execution_count": 137,
   "metadata": {},
   "outputs": [],
   "source": [
    "lim = 70\n",
    "wrongly_classified_images = train[:,0:lim]\n",
    "wrongly_classified_images = wrongly_classified_images[:, corr_pred[0:lim] == False]\n",
    "wrong_labels = labels[:,0:lim]\n",
    "wrong_labels = wrong_labels[:, corr_pred[0:lim] == False]\n",
    "wrong_pred = pred.reshape(1,60000)[:,0:lim]\n",
    "wrong_pred = wrong_pred[:,corr_pred[0:lim] == False]"
   ]
  },
  {
   "cell_type": "code",
   "execution_count": 138,
   "metadata": {},
   "outputs": [
    {
     "data": {
      "image/png": "[encoded data removed]",
      "text/plain": [
       "<matplotlib.figure.Figure at 0x22c11d7dda0>"
      ]
     },
     "metadata": {},
     "output_type": "display_data"
    }
   ],
   "source": [
    "f = plt.figure(figsize=(15,15));\n",
    "count = 1\n",
    "for i in range(0,10):\n",
    "    plt.subplot(5,2,count)\n",
    "    count = count + 1\n",
    "    plt.subplots_adjust(hspace=0.5)\n",
    "    plt.title('True: ' + get_label_name(wrong_labels[:,i]) + ' - Pred: ' + get_label_name(wrong_pred[:,i]))\n",
    "    some_digit_image = wrongly_classified_images[:,i].reshape(28,28)\n",
    "    plt.imshow(some_digit_image, cmap = matplotlib.cm.binary, interpolation = \"nearest\")\n",
    "    plt.axis(\"off\")\n",
    "    pass"
   ]
  },
  {
   "cell_type": "markdown",
   "metadata": {},
   "source": [
    "# 15 neurons"
   ]
  },
  {
   "cell_type": "code",
   "execution_count": 25,
   "metadata": {},
   "outputs": [],
   "source": [
    "n_dim = 784\n",
    "tf.reset_default_graph()\n",
    "\n",
    "# Number of neurons in the layers\n",
    "n1 = 15 # Number of neurons in layer 1\n",
    "n2 = 10 # Number of neurons in output layer \n",
    "\n",
    "cost_history = np.empty(shape=[1], dtype = float)\n",
    "learning_rate = tf.placeholder(tf.float32, shape=())\n",
    "\n",
    "X = tf.placeholder(tf.float32, [n_dim, None])\n",
    "Y = tf.placeholder(tf.float32, [10, None])\n",
    "W1 = tf.Variable(tf.truncated_normal([n1, n_dim], stddev=.1)) \n",
    "b1 = tf.Variable(tf.constant(0.1, shape = [n1,1]) )\n",
    "W2 = tf.Variable(tf.truncated_normal([n2, n1], stddev=.1)) \n",
    "b2 = tf.Variable(tf.constant(0.1, shape = [n2,1])) \n",
    "                 \n",
    "# Let's build our network...\n",
    "Z1 = tf.nn.relu(tf.matmul(W1, X) + b1) # n1 x n_dim * n_dim x n_obs = n1 x n_obs\n",
    "Z2 = tf.matmul(W2, Z1) + b2 # n2 x n1 * n1 * n_obs = n2 x n_obs\n",
    "y_ = tf.nn.softmax(Z2,0) # n2 x n_obs (10 x None)\n",
    "\n",
    "cost = - tf.reduce_mean(Y * tf.log(y_)+(1-Y) * tf.log(1-y_))\n",
    "optimizer = tf.train.GradientDescentOptimizer(learning_rate).minimize(cost)\n",
    "\n",
    "init = tf.global_variables_initializer()"
   ]
  },
  {
   "cell_type": "code",
   "execution_count": 26,
   "metadata": {},
   "outputs": [
    {
     "name": "stdout",
     "output_type": "stream",
     "text": [
      "Reached epoch 0 cost J = 0.326015\n",
      "Reached epoch 10 cost J = 0.294436\n",
      "Reached epoch 20 cost J = 0.23573\n",
      "Reached epoch 30 cost J = 0.191477\n",
      "Reached epoch 40 cost J = 0.164247\n",
      "Reached epoch 50 cost J = 0.148597\n",
      "Reached epoch 60 cost J = 0.139156\n",
      "Reached epoch 70 cost J = 0.132707\n",
      "Reached epoch 80 cost J = 0.12781\n",
      "Reached epoch 90 cost J = 0.123746\n",
      "Reached epoch 100 cost J = 0.12017\n",
      "Reached epoch 110 cost J = 0.116929\n",
      "Reached epoch 120 cost J = 0.11396\n",
      "Reached epoch 130 cost J = 0.111257\n",
      "Reached epoch 140 cost J = 0.108819\n",
      "Reached epoch 150 cost J = 0.106639\n",
      "Reached epoch 160 cost J = 0.104698\n",
      "Reached epoch 170 cost J = 0.102969\n",
      "Reached epoch 180 cost J = 0.101419\n",
      "Reached epoch 190 cost J = 0.100024\n",
      "Reached epoch 200 cost J = 0.0987597\n",
      "Reached epoch 210 cost J = 0.097603\n",
      "Reached epoch 220 cost J = 0.0965397\n",
      "Reached epoch 230 cost J = 0.0955553\n",
      "Reached epoch 240 cost J = 0.0946399\n",
      "Reached epoch 250 cost J = 0.093784\n",
      "Reached epoch 260 cost J = 0.0929818\n",
      "Reached epoch 270 cost J = 0.0922262\n",
      "Reached epoch 280 cost J = 0.0915131\n",
      "Reached epoch 290 cost J = 0.09084\n",
      "Reached epoch 300 cost J = 0.0902026\n",
      "Reached epoch 310 cost J = 0.0895978\n",
      "Reached epoch 320 cost J = 0.0890237\n",
      "Reached epoch 330 cost J = 0.0884782\n",
      "Reached epoch 340 cost J = 0.0879596\n",
      "Reached epoch 350 cost J = 0.0874666\n",
      "Reached epoch 360 cost J = 0.0869958\n",
      "Reached epoch 370 cost J = 0.0865462\n",
      "Reached epoch 380 cost J = 0.0861168\n",
      "Reached epoch 390 cost J = 0.0857057\n",
      "Reached epoch 400 cost J = 0.0853122\n",
      "Reached epoch 410 cost J = 0.0849345\n",
      "Reached epoch 420 cost J = 0.0845717\n",
      "Reached epoch 430 cost J = 0.0842228\n",
      "Reached epoch 440 cost J = 0.0838869\n",
      "Reached epoch 450 cost J = 0.0835635\n",
      "Reached epoch 460 cost J = 0.0832509\n",
      "Reached epoch 470 cost J = 0.0829496\n",
      "Reached epoch 480 cost J = 0.0826583\n",
      "Reached epoch 490 cost J = 0.0823758\n",
      "Reached epoch 500 cost J = 0.0821023\n",
      "Reached epoch 510 cost J = 0.0818371\n",
      "Reached epoch 520 cost J = 0.08158\n",
      "Reached epoch 530 cost J = 0.0813298\n",
      "Reached epoch 540 cost J = 0.0810875\n",
      "Reached epoch 550 cost J = 0.0808528\n",
      "Reached epoch 560 cost J = 0.080624\n",
      "Reached epoch 570 cost J = 0.0804018\n",
      "Reached epoch 580 cost J = 0.0801853\n",
      "Reached epoch 590 cost J = 0.079974\n",
      "Reached epoch 600 cost J = 0.0797684\n",
      "Reached epoch 610 cost J = 0.0795672\n",
      "Reached epoch 620 cost J = 0.079371\n",
      "Reached epoch 630 cost J = 0.0791789\n",
      "Reached epoch 640 cost J = 0.0789915\n",
      "Reached epoch 650 cost J = 0.0788083\n",
      "Reached epoch 660 cost J = 0.078629\n",
      "Reached epoch 670 cost J = 0.0784537\n",
      "Reached epoch 680 cost J = 0.078282\n",
      "Reached epoch 690 cost J = 0.0781139\n",
      "Reached epoch 700 cost J = 0.0779488\n",
      "Reached epoch 710 cost J = 0.0777877\n",
      "Reached epoch 720 cost J = 0.077629\n",
      "Reached epoch 730 cost J = 0.0774736\n",
      "Reached epoch 740 cost J = 0.077321\n",
      "Reached epoch 750 cost J = 0.0771713\n",
      "Reached epoch 760 cost J = 0.0770241\n",
      "Reached epoch 770 cost J = 0.0768792\n",
      "Reached epoch 780 cost J = 0.076737\n",
      "Reached epoch 790 cost J = 0.0765971\n",
      "Reached epoch 800 cost J = 0.0764597\n",
      "Reached epoch 810 cost J = 0.0763245\n",
      "Reached epoch 820 cost J = 0.0761913\n",
      "Reached epoch 830 cost J = 0.0760608\n",
      "Reached epoch 840 cost J = 0.0759319\n",
      "Reached epoch 850 cost J = 0.075805\n",
      "Reached epoch 860 cost J = 0.07568\n",
      "Reached epoch 870 cost J = 0.075557\n",
      "Reached epoch 880 cost J = 0.0754355\n",
      "Reached epoch 890 cost J = 0.0753157\n",
      "Reached epoch 900 cost J = 0.0751982\n",
      "Reached epoch 910 cost J = 0.0750818\n",
      "Reached epoch 920 cost J = 0.0749667\n",
      "Reached epoch 930 cost J = 0.0748532\n",
      "Reached epoch 940 cost J = 0.0747414\n",
      "Reached epoch 950 cost J = 0.0746306\n",
      "Reached epoch 960 cost J = 0.0745211\n",
      "Reached epoch 970 cost J = 0.0744132\n",
      "Reached epoch 980 cost J = 0.0743064\n",
      "Reached epoch 990 cost J = 0.0742004\n",
      "Reached epoch 1000 cost J = 0.0740961\n"
     ]
    }
   ],
   "source": [
    "sess = tf.Session()\n",
    "sess.run(tf.global_variables_initializer())\n",
    "    \n",
    "cost_history = []\n",
    "for epoch in range(1000+1):\n",
    "    for i in range(0, train.shape[1], 50):\n",
    "        X_train_mini = train[:,i:i + 50]\n",
    "        y_train_mini = labels_[:,i:i + 50]\n",
    "\n",
    "        sess.run(optimizer, feed_dict = {X: X_train_mini, Y: y_train_mini, learning_rate: 0.001})\n",
    "    cost_ = sess.run(cost, feed_dict={ X:train, Y: labels_, learning_rate: 0.001})\n",
    "    cost_history = np.append(cost_history, cost_)\n",
    "\n",
    "    if (epoch % 10 == 0):\n",
    "        print(\"Reached epoch\",epoch,\"cost J =\", cost_)"
   ]
  },
  {
   "cell_type": "code",
   "execution_count": 27,
   "metadata": {},
   "outputs": [
    {
     "name": "stdout",
     "output_type": "stream",
     "text": [
      "Accuracy: 0.853267\n"
     ]
    }
   ],
   "source": [
    "correct_predictions = tf.equal(tf.argmax(y_,0), tf.argmax(Y,0))\n",
    "accuracy = tf.reduce_mean(tf.cast(correct_predictions, \"float\"))\n",
    "print (\"Accuracy:\", accuracy.eval({X: train, Y: labels_, learning_rate: 0.001}, session = sess))"
   ]
  },
  {
   "cell_type": "code",
   "execution_count": 28,
   "metadata": {},
   "outputs": [
    {
     "name": "stdout",
     "output_type": "stream",
     "text": [
      "Accuracy: 0.8519\n"
     ]
    }
   ],
   "source": [
    "correct_predictions = tf.equal(tf.argmax(y_,0), tf.argmax(Y,0))\n",
    "accuracy = tf.reduce_mean(tf.cast(correct_predictions, \"float\"))\n",
    "print (\"Accuracy:\", accuracy.eval({X: test, Y: labels_test_, learning_rate: 0.001}, session = sess))"
   ]
  },
  {
   "cell_type": "markdown",
   "metadata": {},
   "source": [
    "# 50 neurons"
   ]
  },
  {
   "cell_type": "code",
   "execution_count": 35,
   "metadata": {},
   "outputs": [],
   "source": [
    "n_dim = 784\n",
    "tf.reset_default_graph()\n",
    "\n",
    "# Number of neurons in the layers\n",
    "n1 = 50 # Number of neurons in layer 1\n",
    "n2 = 10 # Number of neurons in output layer \n",
    "\n",
    "cost_history = np.empty(shape=[1], dtype = float)\n",
    "learning_rate = tf.placeholder(tf.float32, shape=())\n",
    "\n",
    "X = tf.placeholder(tf.float32, [n_dim, None])\n",
    "Y = tf.placeholder(tf.float32, [10, None])\n",
    "W1 = tf.Variable(tf.truncated_normal([n1, n_dim], stddev=.1)) \n",
    "b1 = tf.Variable(tf.constant(0.1, shape = [n1,1]) )\n",
    "W2 = tf.Variable(tf.truncated_normal([n2, n1], stddev=.1)) \n",
    "b2 = tf.Variable(tf.constant(0.1, shape = [n2,1])) \n",
    "                 \n",
    "# Let's build our network...\n",
    "Z1 = tf.nn.relu(tf.matmul(W1, X) + b1) # n1 x n_dim * n_dim x n_obs = n1 x n_obs\n",
    "Z2 = tf.matmul(W2, Z1) + b2 # n2 x n1 * n1 * n_obs = n2 x n_obs\n",
    "y_ = tf.nn.softmax(Z2,0) # n2 x n_obs (10 x None)\n",
    "\n",
    "cost = - tf.reduce_mean(Y * tf.log(y_)+(1-Y) * tf.log(1-y_))\n",
    "optimizer = tf.train.GradientDescentOptimizer(learning_rate).minimize(cost)\n",
    "\n",
    "init = tf.global_variables_initializer()"
   ]
  },
  {
   "cell_type": "code",
   "execution_count": 36,
   "metadata": {},
   "outputs": [
    {
     "name": "stdout",
     "output_type": "stream",
     "text": [
      "Reached epoch 0 cost J = 0.329011\n",
      "Reached epoch 10 cost J = 0.220687\n",
      "Reached epoch 20 cost J = 0.169212\n",
      "Reached epoch 30 cost J = 0.147768\n",
      "Reached epoch 40 cost J = 0.135878\n",
      "Reached epoch 50 cost J = 0.127698\n",
      "Reached epoch 60 cost J = 0.121352\n",
      "Reached epoch 70 cost J = 0.116142\n",
      "Reached epoch 80 cost J = 0.111847\n",
      "Reached epoch 90 cost J = 0.108285\n",
      "Reached epoch 100 cost J = 0.105278\n",
      "Reached epoch 110 cost J = 0.102711\n",
      "Reached epoch 120 cost J = 0.100495\n",
      "Reached epoch 130 cost J = 0.0985634\n",
      "Reached epoch 140 cost J = 0.096861\n",
      "Reached epoch 150 cost J = 0.0953485\n",
      "Reached epoch 160 cost J = 0.0939932\n",
      "Reached epoch 170 cost J = 0.0927675\n",
      "Reached epoch 180 cost J = 0.091653\n",
      "Reached epoch 190 cost J = 0.090633\n",
      "Reached epoch 200 cost J = 0.0896948\n",
      "Reached epoch 210 cost J = 0.0888281\n",
      "Reached epoch 220 cost J = 0.0880239\n",
      "Reached epoch 230 cost J = 0.0872742\n",
      "Reached epoch 240 cost J = 0.0865726\n",
      "Reached epoch 250 cost J = 0.0859143\n",
      "Reached epoch 260 cost J = 0.0852939\n",
      "Reached epoch 270 cost J = 0.0847083\n",
      "Reached epoch 280 cost J = 0.0841539\n",
      "Reached epoch 290 cost J = 0.0836273\n",
      "Reached epoch 300 cost J = 0.0831266\n",
      "Reached epoch 310 cost J = 0.0826491\n",
      "Reached epoch 320 cost J = 0.0821923\n",
      "Reached epoch 330 cost J = 0.0817562\n",
      "Reached epoch 340 cost J = 0.0813388\n",
      "Reached epoch 350 cost J = 0.0809386\n",
      "Reached epoch 360 cost J = 0.0805545\n",
      "Reached epoch 370 cost J = 0.0801851\n",
      "Reached epoch 380 cost J = 0.0798293\n",
      "Reached epoch 390 cost J = 0.0794864\n",
      "Reached epoch 400 cost J = 0.0791551\n",
      "Reached epoch 410 cost J = 0.0788343\n",
      "Reached epoch 420 cost J = 0.0785239\n",
      "Reached epoch 430 cost J = 0.0782233\n",
      "Reached epoch 440 cost J = 0.0779321\n",
      "Reached epoch 450 cost J = 0.0776486\n",
      "Reached epoch 460 cost J = 0.0773736\n",
      "Reached epoch 470 cost J = 0.0771054\n",
      "Reached epoch 480 cost J = 0.0768449\n",
      "Reached epoch 490 cost J = 0.0765906\n",
      "Reached epoch 500 cost J = 0.0763431\n",
      "Reached epoch 510 cost J = 0.0761013\n",
      "Reached epoch 520 cost J = 0.0758655\n",
      "Reached epoch 530 cost J = 0.0756344\n",
      "Reached epoch 540 cost J = 0.0754084\n",
      "Reached epoch 550 cost J = 0.0751879\n",
      "Reached epoch 560 cost J = 0.0749722\n",
      "Reached epoch 570 cost J = 0.0747607\n",
      "Reached epoch 580 cost J = 0.0745532\n",
      "Reached epoch 590 cost J = 0.0743506\n",
      "Reached epoch 600 cost J = 0.0741514\n",
      "Reached epoch 610 cost J = 0.0739561\n",
      "Reached epoch 620 cost J = 0.0737648\n",
      "Reached epoch 630 cost J = 0.0735766\n",
      "Reached epoch 640 cost J = 0.0733928\n",
      "Reached epoch 650 cost J = 0.0732119\n",
      "Reached epoch 660 cost J = 0.0730337\n",
      "Reached epoch 670 cost J = 0.0728586\n",
      "Reached epoch 680 cost J = 0.0726859\n",
      "Reached epoch 690 cost J = 0.0725163\n",
      "Reached epoch 700 cost J = 0.0723498\n",
      "Reached epoch 710 cost J = 0.0721855\n",
      "Reached epoch 720 cost J = 0.0720243\n",
      "Reached epoch 730 cost J = 0.0718655\n",
      "Reached epoch 740 cost J = 0.0717089\n",
      "Reached epoch 750 cost J = 0.071554\n",
      "Reached epoch 760 cost J = 0.0714013\n",
      "Reached epoch 770 cost J = 0.0712507\n",
      "Reached epoch 780 cost J = 0.0711022\n",
      "Reached epoch 790 cost J = 0.0709552\n",
      "Reached epoch 800 cost J = 0.0708102\n",
      "Reached epoch 810 cost J = 0.0706674\n",
      "Reached epoch 820 cost J = 0.070527\n",
      "Reached epoch 830 cost J = 0.0703886\n",
      "Reached epoch 840 cost J = 0.0702519\n",
      "Reached epoch 850 cost J = 0.0701171\n",
      "Reached epoch 860 cost J = 0.0699838\n",
      "Reached epoch 870 cost J = 0.0698523\n",
      "Reached epoch 880 cost J = 0.0697223\n",
      "Reached epoch 890 cost J = 0.0695939\n",
      "Reached epoch 900 cost J = 0.0694673\n",
      "Reached epoch 910 cost J = 0.0693414\n",
      "Reached epoch 920 cost J = 0.0692172\n",
      "Reached epoch 930 cost J = 0.069094\n",
      "Reached epoch 940 cost J = 0.0689721\n",
      "Reached epoch 950 cost J = 0.0688518\n",
      "Reached epoch 960 cost J = 0.0687327\n",
      "Reached epoch 970 cost J = 0.0686151\n",
      "Reached epoch 980 cost J = 0.0684985\n",
      "Reached epoch 990 cost J = 0.0683834\n",
      "Reached epoch 1000 cost J = 0.0682689\n",
      "Wall time: 35min 37s\n"
     ]
    }
   ],
   "source": [
    "%%time\n",
    "sess = tf.Session()\n",
    "sess.run(tf.global_variables_initializer())\n",
    "    \n",
    "cost_history = []\n",
    "for epoch in range(1000+1):\n",
    "    for i in range(0, train.shape[1], 50):\n",
    "        X_train_mini = train[:,i:i + 50]\n",
    "        y_train_mini = labels_[:,i:i + 50]\n",
    "\n",
    "        sess.run(optimizer, feed_dict = {X: X_train_mini, Y: y_train_mini, learning_rate: 0.001})\n",
    "    cost_ = sess.run(cost, feed_dict={ X:train, Y: labels_, learning_rate: 0.001})\n",
    "    cost_history = np.append(cost_history, cost_)\n",
    "\n",
    "    if (epoch % 10 == 0):\n",
    "        print(\"Reached epoch\",epoch,\"cost J =\", cost_)"
   ]
  },
  {
   "cell_type": "code",
   "execution_count": 37,
   "metadata": {},
   "outputs": [
    {
     "name": "stdout",
     "output_type": "stream",
     "text": [
      "Accuracy: 0.864583\n"
     ]
    }
   ],
   "source": [
    "correct_predictions = tf.equal(tf.argmax(y_,0), tf.argmax(Y,0))\n",
    "accuracy = tf.reduce_mean(tf.cast(correct_predictions, \"float\"))\n",
    "print (\"Accuracy:\", accuracy.eval({X: train, Y: labels_, learning_rate: 0.001}, session = sess))"
   ]
  },
  {
   "cell_type": "code",
   "execution_count": 38,
   "metadata": {},
   "outputs": [
    {
     "name": "stdout",
     "output_type": "stream",
     "text": [
      "Accuracy: 0.8609\n"
     ]
    }
   ],
   "source": [
    "correct_predictions = tf.equal(tf.argmax(y_,0), tf.argmax(Y,0))\n",
    "accuracy = tf.reduce_mean(tf.cast(correct_predictions, \"float\"))\n",
    "print (\"Accuracy:\", accuracy.eval({X: test, Y: labels_test_, learning_rate: 0.001}, session = sess))"
   ]
  },
  {
   "cell_type": "code",
   "execution_count": 39,
   "metadata": {},
   "outputs": [],
   "source": [
    "sess.close()"
   ]
  },
  {
   "cell_type": "code",
   "execution_count": 106,
   "metadata": {},
   "outputs": [],
   "source": [
    "sess.close()"
   ]
  },
  {
   "cell_type": "markdown",
   "metadata": {},
   "source": [
    "# 3 layers, 10 neurons"
   ]
  },
  {
   "cell_type": "code",
   "execution_count": 140,
   "metadata": {},
   "outputs": [],
   "source": [
    "n_dim = 784\n",
    "tf.reset_default_graph()\n",
    "\n",
    "# Number of neurons in the layers\n",
    "n1 = 10 # Number of neurons in layer 1\n",
    "n2 = 10 # Number of neurons in layer 2 \n",
    "n3 = 10\n",
    "n4 = 10\n",
    "#n5 = 10 # Neurons for the softmax function\n",
    "\n",
    "cost_history = np.empty(shape=[0], dtype = float)\n",
    "learning_rate = tf.placeholder(tf.float32, shape=())\n",
    "\n",
    "stddev_f = 0.1\n",
    "\n",
    "tf.set_random_seed(5)\n",
    "\n",
    "X = tf.placeholder(tf.float32, [n_dim, None])\n",
    "Y = tf.placeholder(tf.float32, [10, None])\n",
    "W1 = tf.Variable(tf.truncated_normal([n1, n_dim], stddev=2.0 / np.sqrt(n_dim+n2))) \n",
    "b1 = tf.Variable(tf.constant(0.0, shape = [n1,1]) )\n",
    "W2 = tf.Variable(tf.truncated_normal([n2, n1], stddev=2.0 / np.sqrt(n1+n3))) \n",
    "b2 = tf.Variable(tf.constant(0.0, shape = [n2,1])) \n",
    "W3 = tf.Variable(tf.truncated_normal([n3,n2], stddev = 2.0 / np.sqrt(n2+n4)))\n",
    "b3 = tf.Variable(tf.constant(0.0, shape = [n3,1]))\n",
    "W4 = tf.Variable(tf.truncated_normal([n4,n3], stddev = 2.0 / np.sqrt(n3+1)))\n",
    "b4 = tf.Variable(tf.constant(0.0, shape = [n4,1]))\n",
    "                 \n",
    "# Let's build our network...\n",
    "Z1 = tf.nn.relu(tf.matmul(W1, X) + b1) # n1 x n_dim * n_dim x n_obs = n1 x n_obs\n",
    "Z2 = tf.nn.relu(tf.matmul(W2, Z1) + b2) # n2 x n1 * n1 * n_obs = n2 x n_obs\n",
    "Z3 = tf.nn.relu(tf.matmul(W3, Z2) + b3)\n",
    "Z4 = tf.matmul(W4, Z3) + b4\n",
    "y_ = tf.nn.softmax(Z4,0) # n2 x n_obs (10 x None)\n",
    "\n",
    "\n",
    "cost = - tf.reduce_mean(Y * tf.log(y_)+(1-Y) * tf.log(1-y_))\n",
    "optimizer = tf.train.GradientDescentOptimizer(learning_rate).minimize(cost)\n",
    "init = tf.global_variables_initializer()"
   ]
  },
  {
   "cell_type": "code",
   "execution_count": 143,
   "metadata": {},
   "outputs": [
    {
     "name": "stdout",
     "output_type": "stream",
     "text": [
      "Reached epoch 0 cost J = 0.302226\n",
      "Reached epoch 5 cost J = 0.137558\n",
      "Reached epoch 10 cost J = 0.108331\n",
      "Reached epoch 15 cost J = 0.100399\n",
      "Reached epoch 20 cost J = 0.0955192\n",
      "Reached epoch 25 cost J = 0.0916443\n",
      "Reached epoch 30 cost J = 0.0883506\n",
      "Reached epoch 35 cost J = 0.0856237\n",
      "Reached epoch 40 cost J = 0.0833771\n",
      "Reached epoch 45 cost J = 0.0814716\n",
      "Reached epoch 50 cost J = 0.0799088\n",
      "Reached epoch 55 cost J = 0.0792906\n",
      "Reached epoch 60 cost J = 0.0791393\n",
      "Reached epoch 65 cost J = 0.0789921\n",
      "Reached epoch 70 cost J = 0.0788486\n",
      "Reached epoch 75 cost J = 0.0787086\n",
      "Reached epoch 80 cost J = 0.0785708\n",
      "Reached epoch 85 cost J = 0.0784354\n",
      "Reached epoch 90 cost J = 0.0783033\n",
      "Reached epoch 95 cost J = 0.078173\n",
      "Reached epoch 100 cost J = 0.0780451\n",
      "Wall time: 2min 59s\n"
     ]
    }
   ],
   "source": [
    "%%time\n",
    "sess = tf.Session()\n",
    "sess.run(tf.global_variables_initializer())\n",
    "\n",
    "learning_r = 0.01\n",
    "minibatch_size = 50\n",
    "    \n",
    "cost_historyL3 = []\n",
    "for epoch in range(100+1):\n",
    "    #print (epoch, ' ', learning_r)\n",
    "    for i in range(0, train.shape[1], minibatch_size):\n",
    "        X_train_mini = train[:,i:i + minibatch_size]\n",
    "        y_train_mini = labels_[:,i:i + minibatch_size]\n",
    "\n",
    "        #sess.run(optimizer, feed_dict = {X: X_train_mini, Y: y_train_mini, learning_rate: learning_r})\n",
    "        sess.run(optimizer, feed_dict = {X: X_train_mini, Y: y_train_mini, learning_rate: learning_r})\n",
    "    cost_ = sess.run(cost, feed_dict={ X:train, Y: labels_})\n",
    "    cost_historyL3 = np.append(cost_historyL3, cost_)\n",
    "    \n",
    "    if (epoch % 5 == 0):\n",
    "        print(\"Reached epoch\",epoch,\"cost J =\", cost_)"
   ]
  },
  {
   "cell_type": "markdown",
   "metadata": {},
   "source": [
    "# 1 Layer with decaying learning rate"
   ]
  },
  {
   "cell_type": "code",
   "execution_count": 127,
   "metadata": {},
   "outputs": [],
   "source": [
    "n_dim = 784\n",
    "tf.reset_default_graph()\n",
    "\n",
    "# Number of neurons in the layers\n",
    "n1 = 100 # Number of neurons in layer 1\n",
    "n2 = 10 # Neurons for the softmax function\n",
    "\n",
    "cost_history = np.empty(shape=[1], dtype = float)\n",
    "\n",
    "stddev_f = 0.1\n",
    "\n",
    "X = tf.placeholder(tf.float32, [n_dim, None])\n",
    "Y = tf.placeholder(tf.float32, [10, None])\n",
    "W1 = tf.Variable(tf.truncated_normal([n1, n_dim], stddev=stddev_f)) \n",
    "b1 = tf.Variable(tf.constant(stddev_f, shape = [n1,1]) )\n",
    "W2 = tf.Variable(tf.truncated_normal([n2,n1], stddev = stddev_f))\n",
    "b2 = tf.Variable(tf.constant(stddev_f, shape = [n2,1]))\n",
    "                 \n",
    "# Let's build our network...\n",
    "Z1 = tf.nn.sigmoid(tf.matmul(W1, X) + b1) # n1 x n_dim * n_dim x n_obs = n1 x n_obs\n",
    "Z2 = tf.matmul(W2,Z1) + b2\n",
    "y_ = tf.nn.softmax(Z2,0) # n2 x n_obs (10 x None)\n",
    "\n",
    "\n",
    "global_step = tf.Variable(0, trainable=False)\n",
    "starter_learning_rate = 0.05\n",
    "learning_rate = tf.train.exponential_decay(starter_learning_rate, global_step,\n",
    "                                       1e5, 0.9, staircase=True)\n",
    "\n",
    "cost = - tf.reduce_mean(Y * tf.log(y_)+(1-Y) * tf.log(1-y_))\n",
    "\n",
    "learning_step = tf.train.GradientDescentOptimizer(learning_rate).minimize(cost, global_step=global_step)\n",
    "\n",
    "init = tf.global_variables_initializer()"
   ]
  },
  {
   "cell_type": "code",
   "execution_count": null,
   "metadata": {
    "scrolled": false
   },
   "outputs": [],
   "source": [
    "%%time\n",
    "sess = tf.Session()\n",
    "sess.run(tf.global_variables_initializer())\n",
    "\n",
    "#learning_r = 1e-5\n",
    "minibatch_size = 20\n",
    "    \n",
    "cost_history = []\n",
    "for epoch in range(200+1):\n",
    "    rnd_list = np.random.choice(train.shape[1], 60000)\n",
    "    train_red = train[:, rnd_list]\n",
    "    labels_red = labels_[:, rnd_list]\n",
    "    for i in range(0, train.shape[1], minibatch_size):\n",
    "        X_train_mini = train_red[:,i:i + minibatch_size]\n",
    "        y_train_mini = labels_red[:,i:i + minibatch_size]\n",
    "\n",
    "        #sess.run(optimizer, feed_dict = {X: X_train_mini, Y: y_train_mini, learning_rate: learning_r})\n",
    "        sess.run(learning_step, feed_dict = {X: X_train_mini, Y: y_train_mini})\n",
    "    cost_ = sess.run(cost, feed_dict={ X:train, Y: labels_})\n",
    "    cost_history = np.append(cost_history, cost_)\n",
    "    #if (epoch % 30 == 0):\n",
    "    #    learning_r = learning_r / 2.0\n",
    "\n",
    "    if (epoch % 10 == 0):\n",
    "        print(\"Reached epoch\",epoch,\"cost J =\", cost_)\n",
    "        print(sess.run(global_step, feed_dict = { X:train, Y: labels_} ))"
   ]
  },
  {
   "cell_type": "code",
   "execution_count": 124,
   "metadata": {},
   "outputs": [
    {
     "name": "stdout",
     "output_type": "stream",
     "text": [
      "Accuracy: 0.1\n"
     ]
    }
   ],
   "source": [
    "correct_predictions = tf.equal(tf.argmax(y_,0), tf.argmax(Y,0))\n",
    "accuracy = tf.reduce_mean(tf.cast(correct_predictions, \"float\"))\n",
    "print (\"Accuracy:\", accuracy.eval({X: train, Y: labels_, learning_rate: 0.001}, session = sess))"
   ]
  },
  {
   "cell_type": "code",
   "execution_count": 125,
   "metadata": {},
   "outputs": [
    {
     "name": "stdout",
     "output_type": "stream",
     "text": [
      "Accuracy: 0.1\n"
     ]
    }
   ],
   "source": [
    "correct_predictions = tf.equal(tf.argmax(y_,0), tf.argmax(Y,0))\n",
    "accuracy = tf.reduce_mean(tf.cast(correct_predictions, \"float\"))\n",
    "print (\"Accuracy:\", accuracy.eval({X: test, Y: labels_test_, learning_rate: 0.001}, session = sess))"
   ]
  },
  {
   "cell_type": "code",
   "execution_count": 118,
   "metadata": {},
   "outputs": [
    {
     "data": {
      "text/plain": [
       "Text(0,0.5,'Cost function $J$')"
      ]
     },
     "execution_count": 118,
     "metadata": {},
     "output_type": "execute_result"
    },
    {
     "data": {
      "text/plain": [
       "<matplotlib.figure.Figure at 0x1ec28e32e10>"
      ]
     },
     "metadata": {},
     "output_type": "display_data"
    },
    {
     "data": {
      "image/png": "[encoded data removed]",
      "text/plain": [
       "<matplotlib.figure.Figure at 0x1ec28e32898>"
      ]
     },
     "metadata": {},
     "output_type": "display_data"
    }
   ],
   "source": [
    "plt.rc('font', family='arial')\n",
    "plt.rc('xtick', labelsize='x-small')\n",
    "plt.rc('ytick', labelsize='x-small')\n",
    "    \n",
    "plt.tight_layout()\n",
    "\n",
    "fig = plt.figure(figsize=(3.9, 3.1))\n",
    "ax = fig.add_subplot(1, 1, 1)\n",
    "#ax.plot(cost_history1, ls='solid', color = 'black')\n",
    "ax.plot(cost_history, ls='-', color = 'black')\n",
    "ax.set_xlabel('epochs')\n",
    "ax.set_ylabel('Cost function $J$')"
   ]
  },
  {
   "cell_type": "code",
   "execution_count": null,
   "metadata": {},
   "outputs": [],
   "source": [
    "sess.close()"
   ]
  },
  {
   "cell_type": "markdown",
   "metadata": {},
   "source": [
    "# Function to create a layer"
   ]
  },
  {
   "cell_type": "code",
   "execution_count": 12,
   "metadata": {},
   "outputs": [],
   "source": [
    "def create_layer (X, n, activation):\n",
    "    ndim = int(X.shape[0])\n",
    "    stddev = 2.0 / np.sqrt(ndim)\n",
    "    initialization = tf.truncated_normal((n, ndim), stddev = stddev)\n",
    "    W = tf.Variable(initialization)\n",
    "    b = tf.Variable(tf.zeros([n,1]))\n",
    "    Z = tf.matmul(W,X)+b\n",
    "    return activation(Z)"
   ]
  },
  {
   "cell_type": "code",
   "execution_count": 13,
   "metadata": {},
   "outputs": [],
   "source": [
    "tf.reset_default_graph()\n",
    "\n",
    "n_dim = 784\n",
    "n1 = 20\n",
    "n2 = 20\n",
    "n3 = 20\n",
    "n4 = 20\n",
    "n_outputs = 10\n",
    "\n",
    "tf.set_random_seed(5)\n",
    "\n",
    "X = tf.placeholder(tf.float32, [n_dim, None])\n",
    "Y = tf.placeholder(tf.float32, [10, None])\n",
    "\n",
    "learning_rate = tf.placeholder(tf.float32, shape=())\n",
    "\n",
    "hidden1 = create_layer (X, n1, activation = tf.nn.relu)\n",
    "hidden2 = create_layer (hidden1, n2, activation = tf.nn.relu)\n",
    "hidden3 = create_layer (hidden2, n3, activation = tf.nn.relu)\n",
    "hidden4 = create_layer (hidden3, n4, activation = tf.nn.relu)\n",
    "outputs = create_layer (hidden4, n_outputs, activation = tf.identity)\n",
    "y_ = tf.nn.softmax(outputs)\n",
    "\n",
    "cost = - tf.reduce_mean(Y * tf.log(y_)+(1-Y) * tf.log(1-y_))\n",
    "\n",
    "\n",
    "# Adam\n",
    "optimizer = tf.train.AdamOptimizer(learning_rate = learning_rate, beta1 = 0.9, beta2 = 0.999, epsilon = 1e-8).minimize(cost)\n",
    "\n",
    "# Gradient Descent (GD)\n",
    "#optimizer = tf.train.GradientDescentOptimizer(learning_rate).minimize(cost)"
   ]
  },
  {
   "cell_type": "code",
   "execution_count": 14,
   "metadata": {},
   "outputs": [],
   "source": [
    "def model(minibatch_size, training_epochs, features, classes, logging_step = 100, learning_r = 0.001):\n",
    "    sess = tf.Session()\n",
    "    sess.run(tf.global_variables_initializer())\n",
    "\n",
    "    cost_history = []\n",
    "    for epoch in range(training_epochs+1):\n",
    "        for i in range(0, features.shape[1], minibatch_size):\n",
    "            X_train_mini = features[:,i:i + minibatch_size]\n",
    "            y_train_mini = classes[:,i:i + minibatch_size]\n",
    "\n",
    "            sess.run(optimizer, feed_dict = {X: X_train_mini, Y: y_train_mini, learning_rate: learning_r})\n",
    "        cost_ = sess.run(cost, feed_dict={ X:features, Y: classes, learning_rate: learning_r})\n",
    "        cost_history = np.append(cost_history, cost_)\n",
    "\n",
    "        if (epoch % logging_step == 0):\n",
    "                print(\"Reached epoch\",epoch,\"cost J =\", cost_)\n",
    "                \n",
    "    return sess, cost_history"
   ]
  },
  {
   "cell_type": "markdown",
   "metadata": {},
   "source": [
    "## Plain GD"
   ]
  },
  {
   "cell_type": "markdown",
   "metadata": {},
   "source": [
    "Re-build the network with the GD optimizer instead of the Adam."
   ]
  },
  {
   "cell_type": "code",
   "execution_count": 15,
   "metadata": {
    "scrolled": false
   },
   "outputs": [
    {
     "name": "stdout",
     "output_type": "stream",
     "text": [
      "Reached epoch 0 cost J = 1.00874\n",
      "Reached epoch 10 cost J = 0.93706\n",
      "Reached epoch 20 cost J = 0.927668\n",
      "Reached epoch 30 cost J = 0.923309\n",
      "Reached epoch 40 cost J = 0.920409\n",
      "Reached epoch 50 cost J = 0.918113\n",
      "Reached epoch 60 cost J = 0.916245\n",
      "Reached epoch 70 cost J = 0.914733\n",
      "Reached epoch 80 cost J = 0.913462\n",
      "Reached epoch 90 cost J = 0.912368\n",
      "Reached epoch 100 cost J = 0.911416\n"
     ]
    }
   ],
   "source": [
    "sess, cost_history = model (50, 100, train, labels_, logging_step = 10, learning_r = 0.01)"
   ]
  },
  {
   "cell_type": "code",
   "execution_count": 16,
   "metadata": {},
   "outputs": [
    {
     "name": "stdout",
     "output_type": "stream",
     "text": [
      "Accuracy: 0.868317\n"
     ]
    }
   ],
   "source": [
    "correct_predictions = tf.equal(tf.argmax(y_,0), tf.argmax(Y,0))\n",
    "accuracy = tf.reduce_mean(tf.cast(correct_predictions, \"float\"))\n",
    "print (\"Accuracy:\", accuracy.eval({X: train, Y: labels_, learning_rate: 0.001}, session = sess))"
   ]
  },
  {
   "cell_type": "code",
   "execution_count": 17,
   "metadata": {},
   "outputs": [
    {
     "name": "stdout",
     "output_type": "stream",
     "text": [
      "Accuracy: 0.8606\n"
     ]
    }
   ],
   "source": [
    "correct_predictions = tf.equal(tf.argmax(y_,0), tf.argmax(Y,0))\n",
    "accuracy = tf.reduce_mean(tf.cast(correct_predictions, \"float\"))\n",
    "print (\"Accuracy:\", accuracy.eval({X: test, Y: labels_test_, learning_rate: 0.001}, session = sess))"
   ]
  },
  {
   "cell_type": "markdown",
   "metadata": {},
   "source": [
    "## Adam"
   ]
  },
  {
   "cell_type": "markdown",
   "metadata": {},
   "source": [
    "Re-build the network with the Adam optimizer."
   ]
  },
  {
   "cell_type": "code",
   "execution_count": 19,
   "metadata": {
    "scrolled": true
   },
   "outputs": [
    {
     "name": "stdout",
     "output_type": "stream",
     "text": [
      "Reached epoch 0 cost J = 0.938146\n",
      "Reached epoch 10 cost J = 0.912077\n",
      "Reached epoch 20 cost J = 0.907471\n",
      "Reached epoch 30 cost J = 0.904924\n",
      "Reached epoch 40 cost J = 0.903253\n",
      "Reached epoch 50 cost J = 0.902341\n",
      "Reached epoch 60 cost J = 0.901571\n",
      "Reached epoch 70 cost J = 0.901046\n",
      "Reached epoch 80 cost J = 0.900121\n",
      "Reached epoch 90 cost J = 0.899242\n",
      "Reached epoch 100 cost J = 0.898657\n"
     ]
    }
   ],
   "source": [
    "sess, cost_history_adam = model (50, 100, train, labels_, logging_step = 10, learning_r = 0.1)"
   ]
  },
  {
   "cell_type": "code",
   "execution_count": 20,
   "metadata": {
    "scrolled": false
   },
   "outputs": [
    {
     "name": "stdout",
     "output_type": "stream",
     "text": [
      "Accuracy: 0.900417\n"
     ]
    }
   ],
   "source": [
    "correct_predictions = tf.equal(tf.argmax(y_,0), tf.argmax(Y,0))\n",
    "accuracy = tf.reduce_mean(tf.cast(correct_predictions, \"float\"))\n",
    "print (\"Accuracy:\", accuracy.eval({X: train, Y: labels_, learning_rate: 0.001}, session = sess))"
   ]
  },
  {
   "cell_type": "code",
   "execution_count": 21,
   "metadata": {},
   "outputs": [
    {
     "name": "stdout",
     "output_type": "stream",
     "text": [
      "Accuracy: 0.872\n"
     ]
    }
   ],
   "source": [
    "correct_predictions = tf.equal(tf.argmax(y_,0), tf.argmax(Y,0))\n",
    "accuracy = tf.reduce_mean(tf.cast(correct_predictions, \"float\"))\n",
    "print (\"Accuracy:\", accuracy.eval({X: test, Y: labels_test_, learning_rate: 0.001}, session = sess))"
   ]
  },
  {
   "cell_type": "markdown",
   "metadata": {},
   "source": [
    "## Comparison GD and Adam Convergence"
   ]
  },
  {
   "cell_type": "code",
   "execution_count": 25,
   "metadata": {},
   "outputs": [
    {
     "data": {
      "text/plain": [
       "<matplotlib.figure.Figure at 0x21382c7e0b8>"
      ]
     },
     "metadata": {},
     "output_type": "display_data"
    },
    {
     "data": {
      "image/png": "[encoded data removed]",
      "text/plain": [
       "<matplotlib.figure.Figure at 0x21382c7e5c0>"
      ]
     },
     "metadata": {},
     "output_type": "display_data"
    }
   ],
   "source": [
    "plt.rc('font', family='arial')\n",
    "plt.rc('xtick', labelsize='x-small')\n",
    "plt.rc('ytick', labelsize='x-small')\n",
    "    \n",
    "plt.tight_layout()\n",
    "\n",
    "fig = plt.figure(figsize=(3.9, 3.1))\n",
    "ax = fig.add_subplot(1, 1, 1)\n",
    "#ax.plot(cost_history1, ls='solid', color = 'black')\n",
    "ax.plot(cost_history, ls='-', color = 'black', label = r'GD $\\gamma=0.01$')\n",
    "ax.plot(cost_history_adam, ls='--', color = 'blue', label = r'Adam $\\gamma = 0.1$, $\\beta_1=0.9$, $\\beta_2=0.999$')\n",
    "ax.set_xlabel('epochs')\n",
    "ax.set_ylabel('Cost function $J$')\n",
    "plt.legend(bbox_to_anchor=(1.05, 1), loc=2, borderaxespad=0.)\n",
    "\n",
    "#fig.savefig('Figure_1-19'+'.pdf', format='pdf', dpi=300,bbox_inches='tight')\n",
    "fig.savefig('Figure_4-28'+'.png', format='png', dpi=300,bbox_inches='tight')\n",
    "\n",
    "#plt.figure(figsize=(8,6))\n",
    "#plt.title(\"Cost Function vs. epoch number\")\n",
    "#plt.xlabel(\"epochs\")\n",
    "#plt.xlim((0,1000))\n",
    "#plt.ylabel(\"Cost function $J$\")\n",
    "#plt.plot(range(len(cost_history)), cost_history)"
   ]
  }
 ],
 "metadata": {
  "kernelspec": {
   "display_name": "Python 3",
   "language": "python",
   "name": "python3"
  },
  "language_info": {
   "codemirror_mode": {
    "name": "ipython",
    "version": 3
   },
   "file_extension": ".py",
   "mimetype": "text/x-python",
   "name": "python",
   "nbconvert_exporter": "python",
   "pygments_lexer": "ipython3",
   "version": "3.6.3"
  }
 },
 "nbformat": 4,
 "nbformat_minor": 2
}
