{
 "cells": [
  {
   "cell_type": "markdown",
   "metadata": {},
   "source": [
    "# Applied Deep Learning - a use case based approach to understand deep neural networks\n",
    "\n",
    "### Umberto Michelucci\n",
    "\n",
    "Buy the book: https://www.apress.com/us/book/9781484237892"
   ]
  },
  {
   "cell_type": "markdown",
   "metadata": {},
   "source": [
    "(C) Umberto Michelucci 2018-2019 - umberto.michelucci@gmail.com \n",
    "\n",
    "github repository: https://github.com/Apress/applied-deep-learning"
   ]
  },
  {
   "cell_type": "code",
   "execution_count": 2,
   "metadata": {},
   "outputs": [],
   "source": [
    "import numpy as np\n",
    "import matplotlib.pyplot as plt\n",
    "import matplotlib\n",
    "\n",
    "from scipy.optimize import curve_fit"
   ]
  },
  {
   "cell_type": "code",
   "execution_count": 3,
   "metadata": {},
   "outputs": [],
   "source": [
    "def func_0(p, a): \n",
    "    return a\n",
    "\n",
    "\n",
    "def func_2(p, a, b, c): \n",
    "    return a+b*p + c*p**2\n",
    "\n",
    "def func_3(p, a, b, c,d): \n",
    "    return a+b*p + c*p**2+d*p**3\n",
    "\n",
    "def func_5(p, a, b, c,d,e,f): \n",
    "    return a+b*p + c*p**2+d*p**3+e*p**4+f*p**5\n",
    "\n",
    "def func_14(p, a,b,c,d,e,f,g,h, i,j,k,l,m,n,o):\n",
    "    return a+b*p + c*p**2+d*p**3+e*p**4 + f*p**5 + g*p**6 + h*p**7+i*p**8 + j*p**9+k*p**10+l*p**11 + m*p**12 + n*p**13 + o*p**14\n",
    "\n",
    "def func_21(p, a,b,c,d,e,f,g,h, i,j,k,l,m,n,o, q, r, s, t, u, v, x):\n",
    "    return a+b*p + c*p**2+d*p**3+e*p**4 + f*p**5 + g*p**6 + h*p**7+i*p**8 + j*p**9+k*p**10+l*p**11 + m*p**12 + n*p**13 + o*p**14+q*p**15+r*p**16+s*p**17+t*p**18+u*p**19+v*p**20+x*p**21\n",
    "        \n",
    "\n",
    "def func_1(p, a, b):\n",
    "    return a+b*p"
   ]
  },
  {
   "cell_type": "code",
   "execution_count": 4,
   "metadata": {},
   "outputs": [],
   "source": [
    "x = np.arange(-5.0, 5.0, 0.1, dtype = np.float64) \n",
    "\n",
    "y = func_2(x, 1,2,3)+18.0*np.random.normal(0, 1, size=len(x))"
   ]
  },
  {
   "cell_type": "code",
   "execution_count": 5,
   "metadata": {},
   "outputs": [],
   "source": [
    "popt, pcov = curve_fit(func_2, x, y)"
   ]
  },
  {
   "cell_type": "code",
   "execution_count": 6,
   "metadata": {},
   "outputs": [
    {
     "name": "stdout",
     "output_type": "stream",
     "text": [
      "[ 0.22793003  2.07822335  3.23544672]\n"
     ]
    }
   ],
   "source": [
    "print(popt)"
   ]
  },
  {
   "cell_type": "code",
   "execution_count": 7,
   "metadata": {},
   "outputs": [
    {
     "data": {
      "text/plain": [
       "Text(0,0.5,'y')"
      ]
     },
     "execution_count": 7,
     "metadata": {},
     "output_type": "execute_result"
    },
    {
     "data": {
      "text/plain": [
       "<matplotlib.figure.Figure at 0x234c3533518>"
      ]
     },
     "metadata": {},
     "output_type": "display_data"
    },
    {
     "data": {
      "image/png": "[encoded data removed]",
      "text/plain": [
       "<matplotlib.figure.Figure at 0x234c35334e0>"
      ]
     },
     "metadata": {},
     "output_type": "display_data"
    }
   ],
   "source": [
    "plt.rc('font', family='arial')\n",
    "plt.rc('xtick', labelsize='x-small')\n",
    "plt.rc('ytick', labelsize='x-small')\n",
    "    \n",
    "plt.tight_layout()\n",
    "\n",
    "fig = plt.figure(figsize=(3.9, 3.1))\n",
    "ax = fig.add_subplot(1, 1, 1)\n",
    "ax.scatter(x,y, color = 'red')\n",
    "ax.set_xlabel('x')\n",
    "ax.set_ylabel('y')\n",
    "\n",
    "#fig.savefig('Figure_3-4'+'.pdf', format='pdf', dpi=300,bbox_inches='tight')\n",
    "#fig.savefig('Figure_3-4'+'.png', format='png', dpi=300,bbox_inches='tight')"
   ]
  },
  {
   "cell_type": "markdown",
   "metadata": {},
   "source": [
    "# pol 1st order"
   ]
  },
  {
   "cell_type": "code",
   "execution_count": 8,
   "metadata": {},
   "outputs": [
    {
     "name": "stdout",
     "output_type": "stream",
     "text": [
      "[ 27.17920114   1.75467882]\n"
     ]
    }
   ],
   "source": [
    "popt, pcov = curve_fit(func_1, x, y)\n",
    "print(popt)"
   ]
  },
  {
   "cell_type": "code",
   "execution_count": 9,
   "metadata": {},
   "outputs": [
    {
     "data": {
      "text/plain": [
       "<matplotlib.figure.Figure at 0x234c3533a58>"
      ]
     },
     "metadata": {},
     "output_type": "display_data"
    },
    {
     "data": {
      "image/png": "[encoded data removed]",
      "text/plain": [
       "<matplotlib.figure.Figure at 0x234c3533c18>"
      ]
     },
     "metadata": {},
     "output_type": "display_data"
    }
   ],
   "source": [
    "plt.rc('font', family='arial')\n",
    "plt.rc('xtick', labelsize='x-small')\n",
    "plt.rc('ytick', labelsize='x-small')\n",
    "    \n",
    "plt.tight_layout()\n",
    "\n",
    "fig = plt.figure(figsize=(3.9, 3.1))\n",
    "ax = fig.add_subplot(1, 1, 1)\n",
    "ax.scatter(x,y, color = 'red')\n",
    "ax.plot(x, func_1(x, popt[0], popt[1]),  lw=3)\n",
    "ax.set_xlabel('x')\n",
    "ax.set_ylabel('y')\n",
    "\n",
    "fig.savefig('Figure_3-5'+'.pdf', format='pdf', dpi=300,bbox_inches='tight')\n",
    "fig.savefig('Figure_3-5'+'.png', format='png', dpi=300,bbox_inches='tight')"
   ]
  },
  {
   "cell_type": "markdown",
   "metadata": {},
   "source": [
    "# pol 2nd order"
   ]
  },
  {
   "cell_type": "code",
   "execution_count": 10,
   "metadata": {},
   "outputs": [
    {
     "name": "stdout",
     "output_type": "stream",
     "text": [
      "[ 0.22793003  2.07822335  3.23544672]\n"
     ]
    }
   ],
   "source": [
    "popt, pcov = curve_fit(func_2, x, y)\n",
    "print(popt)"
   ]
  },
  {
   "cell_type": "code",
   "execution_count": 11,
   "metadata": {},
   "outputs": [
    {
     "data": {
      "text/plain": [
       "<matplotlib.figure.Figure at 0x234baaaad68>"
      ]
     },
     "metadata": {},
     "output_type": "display_data"
    },
    {
     "data": {
      "image/png": "[encoded data removed]",
      "text/plain": [
       "<matplotlib.figure.Figure at 0x234baaaa630>"
      ]
     },
     "metadata": {},
     "output_type": "display_data"
    }
   ],
   "source": [
    "plt.rc('font', family='arial')\n",
    "plt.rc('xtick', labelsize='x-small')\n",
    "plt.rc('ytick', labelsize='x-small')\n",
    "    \n",
    "plt.tight_layout()\n",
    "\n",
    "fig = plt.figure(figsize=(3.9, 3.1))\n",
    "ax = fig.add_subplot(1, 1, 1)\n",
    "ax.scatter(x,y, color = 'red')\n",
    "ax.plot(x, func_2(x, *popt),  lw=3)\n",
    "#ax.plot(x, func_2(x,1,2,3), lw =3, color = \"black\")\n",
    "ax.set_xlabel('x')\n",
    "ax.set_ylabel('y')\n",
    "\n",
    "fig.savefig('Figure_3-6'+'.pdf', format='pdf', dpi=300,bbox_inches='tight')\n",
    "fig.savefig('Figure_3-6'+'.png', format='png', dpi=300,bbox_inches='tight')"
   ]
  },
  {
   "cell_type": "markdown",
   "metadata": {},
   "source": [
    "# pol 21th order"
   ]
  },
  {
   "cell_type": "code",
   "execution_count": 12,
   "metadata": {},
   "outputs": [
    {
     "name": "stdout",
     "output_type": "stream",
     "text": [
      "[  8.23229256e-01  -1.69587942e+01   1.50092886e+01   1.17315890e+01\n",
      "  -2.38413810e+01   3.56468170e-01   1.46313428e+01  -1.13404303e+00\n",
      "  -4.21775248e+00   2.00103039e-01   6.72119991e-01  -4.37032886e-03\n",
      "  -6.38483722e-02  -2.07693116e-03   3.71038022e-03   2.50723031e-04\n",
      "  -1.29488213e-04  -1.27624820e-05   2.49430478e-06   3.13789962e-07\n",
      "  -2.03974110e-08  -3.05256413e-09]\n"
     ]
    }
   ],
   "source": [
    "popt, pcov = curve_fit(func_21, x, y)\n",
    "print(popt)"
   ]
  },
  {
   "cell_type": "code",
   "execution_count": 13,
   "metadata": {},
   "outputs": [
    {
     "data": {
      "text/plain": [
       "<matplotlib.figure.Figure at 0x234c56b4e80>"
      ]
     },
     "metadata": {},
     "output_type": "display_data"
    },
    {
     "data": {
      "image/png": "[encoded data removed]",
      "text/plain": [
       "<matplotlib.figure.Figure at 0x234c566fcc0>"
      ]
     },
     "metadata": {},
     "output_type": "display_data"
    }
   ],
   "source": [
    "plt.rc('font', family='arial')\n",
    "plt.rc('xtick', labelsize='x-small')\n",
    "plt.rc('ytick', labelsize='x-small')\n",
    "    \n",
    "plt.tight_layout()\n",
    "\n",
    "fig = plt.figure(figsize=(3.9, 3.1))\n",
    "ax = fig.add_subplot(1, 1, 1)\n",
    "ax.scatter(x,y, color = 'red')\n",
    "ax.plot(x, func_21(x, *popt),  lw=3)\n",
    "ax.set_xlabel('x')\n",
    "ax.set_ylabel('y')\n",
    "\n",
    "fig.savefig('Figure_3-7'+'.pdf', format='pdf', dpi=300,bbox_inches='tight')\n",
    "fig.savefig('Figure_3-7'+'.png', format='png', dpi=300,bbox_inches='tight')"
   ]
  },
  {
   "cell_type": "markdown",
   "metadata": {},
   "source": [
    "# Comparison of the blue line"
   ]
  },
  {
   "cell_type": "code",
   "execution_count": 14,
   "metadata": {},
   "outputs": [],
   "source": [
    "yy = []\n",
    "poptl = []\n",
    "for i in range (0,10):\n",
    "    np.random.seed(seed = i)\n",
    "    yy.append(func_2(x, 1,2,3)+18.0*np.random.normal(0, 1, size=len(x)))\n",
    "    popt, _ = curve_fit(func_21, x, yy[i])\n",
    "    poptl.append(popt)"
   ]
  },
  {
   "cell_type": "code",
   "execution_count": 15,
   "metadata": {},
   "outputs": [
    {
     "data": {
      "text/plain": [
       "<matplotlib.figure.Figure at 0x234c56e2ba8>"
      ]
     },
     "metadata": {},
     "output_type": "display_data"
    },
    {
     "data": {
      "image/png": "[encoded data removed]",
      "text/plain": [
       "<matplotlib.figure.Figure at 0x234c56e2550>"
      ]
     },
     "metadata": {},
     "output_type": "display_data"
    }
   ],
   "source": [
    "plt.rc('font', family='arial')\n",
    "plt.rc('xtick', labelsize='x-small')\n",
    "plt.rc('ytick', labelsize='x-small')\n",
    "    \n",
    "plt.tight_layout()\n",
    "\n",
    "fig = plt.figure(figsize=(3.9, 3.1))\n",
    "#fig = plt.figure(figsize=(8, 8))\n",
    "ax = fig.add_subplot(1, 1, 1)\n",
    "#ax.scatter(x,y, color = 'red')\n",
    "for i in range(0,10):\n",
    "    ax.plot(x, func_21(x, *poptl[i]),  lw=1, color = \"black\")\n",
    "ax.set_xlabel('x')\n",
    "ax.set_ylabel('y')\n",
    "\n",
    "fig.savefig('Figure_3-8'+'.pdf', format='pdf', dpi=300,bbox_inches='tight')\n",
    "fig.savefig('Figure_3-8'+'.png', format='png', dpi=300,bbox_inches='tight')"
   ]
  },
  {
   "cell_type": "code",
   "execution_count": 16,
   "metadata": {},
   "outputs": [],
   "source": [
    "yy = []\n",
    "poptl = []\n",
    "for i in range (0,10):\n",
    "    np.random.seed(seed = i)\n",
    "    yy.append(func_2(x, 1,2,3)+18.0*np.random.normal(0, 1, size=len(x)))\n",
    "    popt, _ = curve_fit(func_1, x, yy[i])\n",
    "    poptl.append(popt)"
   ]
  },
  {
   "cell_type": "code",
   "execution_count": 17,
   "metadata": {},
   "outputs": [
    {
     "data": {
      "text/plain": [
       "<matplotlib.figure.Figure at 0x234c5a301d0>"
      ]
     },
     "metadata": {},
     "output_type": "display_data"
    },
    {
     "data": {
      "image/png": "[encoded data removed]",
      "text/plain": [
       "<matplotlib.figure.Figure at 0x234c5a30550>"
      ]
     },
     "metadata": {},
     "output_type": "display_data"
    }
   ],
   "source": [
    "plt.rc('font', family='arial')\n",
    "plt.rc('xtick', labelsize='x-small')\n",
    "plt.rc('ytick', labelsize='x-small')\n",
    "    \n",
    "plt.tight_layout()\n",
    "\n",
    "fig = plt.figure(figsize=(3.9, 3.1))\n",
    "#fig = plt.figure(figsize=(8, 8))\n",
    "ax = fig.add_subplot(1, 1, 1)\n",
    "#ax.scatter(x,y, color = 'red')\n",
    "plt.ylim(0,100)\n",
    "for i in range(0,10):\n",
    "    ax.plot(x, func_1(x, *poptl[i]),  lw=1, color = \"black\")\n",
    "ax.set_xlabel('x')\n",
    "ax.set_ylabel('y')\n",
    "\n",
    "fig.savefig('Figure_3-9'+'.pdf', format='pdf', dpi=300,bbox_inches='tight')\n",
    "fig.savefig('Figure_3-9'+'.png', format='png', dpi=300,bbox_inches='tight')"
   ]
  },
  {
   "cell_type": "markdown",
   "metadata": {},
   "source": [
    "# Neural network for regression"
   ]
  },
  {
   "cell_type": "code",
   "execution_count": 22,
   "metadata": {},
   "outputs": [],
   "source": [
    "import tensorflow as tf"
   ]
  },
  {
   "cell_type": "code",
   "execution_count": 23,
   "metadata": {},
   "outputs": [],
   "source": [
    "xx = x.reshape(1,len(x))\n",
    "yy = y.reshape(1,len(y))/1000.0+20.0\n",
    "yytest = ytest.reshape(1,len(ytest))/1000.0+20.0"
   ]
  },
  {
   "cell_type": "code",
   "execution_count": 24,
   "metadata": {},
   "outputs": [],
   "source": [
    "tf.reset_default_graph()\n",
    "\n",
    "\n",
    "# Number of neurons in the hidden layer\n",
    "n1 = 1500\n",
    "\n",
    "cost_history = np.empty(shape=[1], dtype = float)\n",
    "\n",
    "learning_rate = tf.placeholder(tf.float32, shape=())\n",
    "\n",
    "X = tf.placeholder(tf.float32, [1, None])\n",
    "Y = tf.placeholder(tf.float32, [1, None])\n",
    "W1 = tf.Variable(tf.random_normal([n1, 1], stddev=1))/100.0\n",
    "b1 = tf.Variable(tf.ones([n1,1]))/100.0\n",
    "W2 = tf.Variable(tf.random_normal([1,n1], stddev=1))/100.0\n",
    "b2 = tf.Variable(tf.ones(1))/100.0\n",
    "\n",
    "#init = tf.global_variables_initializer()\n",
    "\n",
    "# Let's build our network...\n",
    "Z1 = tf.nn.relu(tf.matmul(W1,X)+b1)\n",
    "y_ = tf.nn.relu(tf.matmul(W2,Z1)+b2)\n",
    "\n",
    "\n",
    "cost = tf.reduce_mean(tf.square(y_-Y))\n",
    "optimizer = tf.train.AdamOptimizer(learning_rate).minimize(cost)"
   ]
  },
  {
   "cell_type": "code",
   "execution_count": 29,
   "metadata": {},
   "outputs": [
    {
     "name": "stdout",
     "output_type": "stream",
     "text": [
      "Reached epoch 0 cost J = 459.149\n",
      "Reached epoch 1000 cost J = 131.788\n",
      "Reached epoch 2000 cost J = 46.5209\n",
      "Reached epoch 3000 cost J = 28.4425\n",
      "Reached epoch 4000 cost J = 17.6794\n",
      "Reached epoch 5000 cost J = 13.1185\n",
      "Reached epoch 6000 cost J = 11.9915\n",
      "Reached epoch 7000 cost J = 11.4878\n",
      "Reached epoch 8000 cost J = 11.0803\n",
      "Reached epoch 9000 cost J = 10.6796\n",
      "Reached epoch 10000 cost J = 10.1721\n"
     ]
    }
   ],
   "source": [
    "\n",
    "sess = tf.Session()\n",
    "sess.run(tf.global_variables_initializer())\n",
    "\n",
    "training_epochs = 10000\n",
    "\n",
    "cost_history = []\n",
    "for epoch in range(training_epochs+1):\n",
    "\n",
    "    sess.run(optimizer, feed_dict = {X: xx, Y: yy, learning_rate: 0.005})\n",
    "    cost_ = sess.run(cost, feed_dict={ X:xx, Y: yy, learning_rate: 0.005})\n",
    "    cost_history = np.append(cost_history, cost_)\n",
    "\n",
    "    if (epoch % 1000 == 0):\n",
    "        print(\"Reached epoch\",epoch,\"cost J =\", cost_)"
   ]
  },
  {
   "cell_type": "code",
   "execution_count": 30,
   "metadata": {},
   "outputs": [
    {
     "data": {
      "text/plain": [
       "[<matplotlib.lines.Line2D at 0x234ca412d30>]"
      ]
     },
     "execution_count": 30,
     "metadata": {},
     "output_type": "execute_result"
    },
    {
     "data": {
      "image/png": "[encoded data removed]",
      "text/plain": [
       "<matplotlib.figure.Figure at 0x234c92fbbe0>"
      ]
     },
     "metadata": {},
     "output_type": "display_data"
    }
   ],
   "source": [
    "plt.figure(figsize=(8,6))\n",
    "plt.title(\"Cost Function vs. epoch number\")\n",
    "plt.xlabel(\"epochs\")\n",
    "#plt.xlim((0,2000))\n",
    "plt.ylabel(\"Cost function $J$\")\n",
    "plt.plot(range(len(cost_history)), cost_history)"
   ]
  },
  {
   "cell_type": "code",
   "execution_count": 31,
   "metadata": {
    "scrolled": false
   },
   "outputs": [
    {
     "name": "stdout",
     "output_type": "stream",
     "text": [
      "MSE: 10.1721\n"
     ]
    },
    {
     "data": {
      "text/plain": [
       "Text(0,0.5,'y')"
      ]
     },
     "execution_count": 31,
     "metadata": {},
     "output_type": "execute_result"
    },
    {
     "data": {
      "text/plain": [
       "<matplotlib.figure.Figure at 0x234c5b5a128>"
      ]
     },
     "metadata": {},
     "output_type": "display_data"
    },
    {
     "data": {
      "image/png": "[encoded data removed]",
      "text/plain": [
       "<matplotlib.figure.Figure at 0x234c92eb470>"
      ]
     },
     "metadata": {},
     "output_type": "display_data"
    }
   ],
   "source": [
    "pred_y = sess.run(y_, feed_dict={ X:xx, learning_rate: 0.005})\n",
    "mse = tf.reduce_mean(tf.square(pred_y - yy))\n",
    "print(\"MSE: %.4f\" % sess.run(mse))\n",
    "\n",
    "plt.rc('font', family='arial')\n",
    "plt.rc('xtick', labelsize='x-small')\n",
    "plt.rc('ytick', labelsize='x-small')\n",
    "    \n",
    "plt.tight_layout()\n",
    "\n",
    "#fig = plt.figure(figsize=(3.9, 3.1))\n",
    "fig = plt.figure(figsize=(8, 8))\n",
    "ax = fig.add_subplot(1, 1, 1)\n",
    "ax.scatter(xx[0,:],yy, color = 'red')\n",
    "ax.plot(xx[0,:], pred_y.flatten(),  lw=3)\n",
    "ax.set_xlabel('x')\n",
    "ax.set_ylabel('y')"
   ]
  },
  {
   "cell_type": "code",
   "execution_count": null,
   "metadata": {},
   "outputs": [],
   "source": [
    "sess.close()"
   ]
  },
  {
   "cell_type": "markdown",
   "metadata": {},
   "source": [
    "## MSE test"
   ]
  },
  {
   "cell_type": "code",
   "execution_count": 32,
   "metadata": {},
   "outputs": [
    {
     "name": "stdout",
     "output_type": "stream",
     "text": [
      "MSE: 9.1819\n"
     ]
    }
   ],
   "source": [
    "pred_ytest = sess.run(y_, feed_dict={ X:xx, Y: yytest, learning_rate: 0.005})\n",
    "mse = tf.reduce_mean(tf.square(pred_ytest - yytest))\n",
    "print(\"MSE: %.4f\" % sess.run(mse))"
   ]
  },
  {
   "cell_type": "code",
   "execution_count": 33,
   "metadata": {},
   "outputs": [
    {
     "data": {
      "text/plain": [
       "Text(0,0.5,'y')"
      ]
     },
     "execution_count": 33,
     "metadata": {},
     "output_type": "execute_result"
    },
    {
     "data": {
      "text/plain": [
       "<matplotlib.figure.Figure at 0x234ca51bba8>"
      ]
     },
     "metadata": {},
     "output_type": "display_data"
    },
    {
     "data": {
      "image/png": "[encoded data removed]",
      "text/plain": [
       "<matplotlib.figure.Figure at 0x234ca51b9e8>"
      ]
     },
     "metadata": {},
     "output_type": "display_data"
    }
   ],
   "source": [
    "plt.rc('font', family='arial')\n",
    "plt.rc('xtick', labelsize='x-small')\n",
    "plt.rc('ytick', labelsize='x-small')\n",
    "    \n",
    "plt.tight_layout()\n",
    "\n",
    "#fig = plt.figure(figsize=(3.9, 3.1))\n",
    "fig = plt.figure(figsize=(8, 8))\n",
    "ax = fig.add_subplot(1, 1, 1)\n",
    "ax.scatter(xx,yytest, color = 'red')\n",
    "#ax.scatter(xx,yy,color = 'blue')\n",
    "ax.plot(xx[0,:], pred_ytest.flatten(),  lw=3)\n",
    "ax.set_xlabel('x')\n",
    "ax.set_ylabel('y')"
   ]
  },
  {
   "cell_type": "code",
   "execution_count": 34,
   "metadata": {},
   "outputs": [
    {
     "data": {
      "text/plain": [
       "[<matplotlib.lines.Line2D at 0x234ca5a9908>]"
      ]
     },
     "execution_count": 34,
     "metadata": {},
     "output_type": "execute_result"
    },
    {
     "data": {
      "image/png": "[encoded data removed]",
      "text/plain": [
       "<matplotlib.figure.Figure at 0x234c93a7d68>"
      ]
     },
     "metadata": {},
     "output_type": "display_data"
    }
   ],
   "source": [
    "# 1, 20\n",
    "msex = [1,2, 5,15, 20]\n",
    "mse = [11.1430,5.2292, 0.2437, 0.1799, 0.0358]\n",
    "\n",
    "plt.plot(msex,mse)"
   ]
  },
  {
   "cell_type": "code",
   "execution_count": null,
   "metadata": {},
   "outputs": [],
   "source": []
  }
 ],
 "metadata": {
  "kernelspec": {
   "display_name": "Python 3",
   "language": "python",
   "name": "python3"
  },
  "language_info": {
   "codemirror_mode": {
    "name": "ipython",
    "version": 3
   },
   "file_extension": ".py",
   "mimetype": "text/x-python",
   "name": "python",
   "nbconvert_exporter": "python",
   "pygments_lexer": "ipython3",
   "version": "3.6.3"
  }
 },
 "nbformat": 4,
 "nbformat_minor": 2
}
